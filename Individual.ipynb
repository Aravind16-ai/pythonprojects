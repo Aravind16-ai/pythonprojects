{
 "cells": [
  {
   "cell_type": "markdown",
   "id": "627eeb10",
   "metadata": {},
   "source": [
    "# Introduction and Hypothesis Analysis for Airbnb in NYC"
   ]
  },
  {
   "cell_type": "markdown",
   "id": "d87e17ae",
   "metadata": {},
   "source": [
    "The dataset under consideration delves into the ever-changing world of Airbnb listings in New York City (NYC). This information trove contains a wealth of details about the city's Airbnb landscape, including insights into the diverse range of accommodations available, their geographical distribution, and the various factors influencing their availability and pricing.\n",
    "\n",
    "This database has been sourced from: #https://www.kaggle.com/datasets/thedevastator/airbnbs-nyc-overview/data\n",
    "\n",
    "A valuable dataset platform that allows for exploration and analysis across a wide range of domains. The dataset, which is a snapshot of the Airbnb ecosystem in New York City, has the potential to reveal patterns, trends, and inherent characteristics of the local short-term rental market.\n",
    "\n",
    "**Listing Information:**\n",
    "Name: The distinctive name of the Airbnb listing.\n",
    "Host Name: The name of the individual hosting the Airbnb property,\n",
    "Neighbourhood Group: The specific group or borough within NYC where the listing is situated.\n",
    "\n",
    "**Geographical Coordinates:**\n",
    "Latitude: The geographical latitude coordinate of the Airbnb listing,\n",
    "Longitude: The geographical longitude coordinate of the Airbnb listing.\n",
    "\n",
    "**Accommodation Details:**\n",
    "Room Type: The type of room offered, such as entire home/apartment, private room, or shared room,\n",
    "Price: The cost per night for booking the Airbnb listing,\n",
    "Minimum Nights: The minimum number of nights required for booking,\n",
    "Number of Reviews: The total count of reviews received by the listing,\n",
    "Last Review: The date of the last review received by the listing,\n",
    "Reviews per Month: The average number of reviews received per month.\n",
    "\n",
    "**Host Metrics:**\n",
    "Calculated Host Listings Count: The total number of listings managed by the host,\n",
    "Availability 365: The number of days in a year that the Airbnb listing is available for booking.\n",
    "\n",
    "**Hypothesis Analysis:**\n",
    "\n",
    "1.Pricing Trends by Neighborhood and Room Type:\n",
    "\n",
    "Examining average pricing for various neighborhood groups and room types.\n",
    "\n",
    "Statistical tests are run to validate observed differences.\n",
    "\n",
    "2.Distribution of the Room Types:\n",
    "\n",
    "Examining the number of each room type within neighborhood groups.\n",
    "\n",
    "Seeing if the distribution varies significantly across neighborhoods.\n",
    "\n",
    "3.Minimum number of nights and room types:\n",
    "\n",
    "Examining the average number of nights needed to book each room type.\n",
    "\n",
    "determining whether minimum nights differ significantly between room types.\n"
   ]
  },
  {
   "cell_type": "markdown",
   "id": "ba906b88",
   "metadata": {},
   "source": [
    "# Packages, Libraries, and Data Import"
   ]
  },
  {
   "cell_type": "code",
   "execution_count": 427,
   "id": "abba4038",
   "metadata": {},
   "outputs": [],
   "source": [
    "# Importing all libraries and packages\n",
    " \n",
    "import warnings\n",
    "\n",
    "warnings.filterwarnings(\"ignore\")  # This is to ignore any warnings that might pop up during execution\n",
    "\n",
    "# Basic libraries to manipulate data\n",
    "import matplotlib.pyplot as plt\n",
    "\n",
    "import numpy as np  \n",
    "\n",
    "import pandas as pd \n",
    "\n",
    "import plotly.express as px\n",
    "\n",
    "import seaborn as sns\n",
    "\n",
    "from scipy import stats\n",
    "\n",
    "from matplotlib.colors import Normalize\n",
    "\n",
    "from scipy.stats import ttest_ind\n",
    " \n",
    "from sklearn.linear_model import LinearRegression\n",
    "\n",
    "from sklearn.linear_model import LogisticRegression\n",
    "\n",
    "from sklearn.preprocessing import PolynomialFeatures\n",
    "\n",
    "from sklearn.model_selection import train_test_split\n",
    "\n",
    "from sklearn.metrics import mean_squared_error\n",
    "\n",
    "from sklearn.metrics import classification_report, confusion_matrix\n",
    "\n",
    "from sklearn.preprocessing import LabelEncoder\n",
    " \n",
    "np.random.seed(42)"
   ]
  },
  {
   "cell_type": "code",
   "execution_count": 428,
   "id": "4ecb4413",
   "metadata": {},
   "outputs": [],
   "source": [
    "# Specify the path to the datasets\n",
    "data_path = \"./data/\"\n",
    "\n",
    "# Specify the filenames of the datasets\n",
    "airbnb_filename = \"train.csv\"\n",
    "\n",
    "# Read the CSV files and create backup copies\n",
    "airbnb_df_data = pd.read_csv(data_path + airbnb_filename)\n",
    "\n",
    "# Create working copies of the dataframes for analysis\n",
    "airbnb_df = airbnb_df_data.copy()"
   ]
  },
  {
   "cell_type": "code",
   "execution_count": 429,
   "id": "9e1a3eca",
   "metadata": {},
   "outputs": [
    {
     "data": {
      "text/html": [
       "<div>\n",
       "<style scoped>\n",
       "    .dataframe tbody tr th:only-of-type {\n",
       "        vertical-align: middle;\n",
       "    }\n",
       "\n",
       "    .dataframe tbody tr th {\n",
       "        vertical-align: top;\n",
       "    }\n",
       "\n",
       "    .dataframe thead th {\n",
       "        text-align: right;\n",
       "    }\n",
       "</style>\n",
       "<table border=\"1\" class=\"dataframe\">\n",
       "  <thead>\n",
       "    <tr style=\"text-align: right;\">\n",
       "      <th></th>\n",
       "      <th>id</th>\n",
       "      <th>name</th>\n",
       "      <th>host_id</th>\n",
       "      <th>host_name</th>\n",
       "      <th>neighbourhood_group</th>\n",
       "      <th>neighbourhood</th>\n",
       "      <th>latitude</th>\n",
       "      <th>longitude</th>\n",
       "      <th>room_type</th>\n",
       "      <th>price</th>\n",
       "      <th>minimum_nights</th>\n",
       "      <th>number_of_reviews</th>\n",
       "      <th>last_review</th>\n",
       "      <th>reviews_per_month</th>\n",
       "      <th>calculated_host_listings_count</th>\n",
       "      <th>availability_365</th>\n",
       "    </tr>\n",
       "  </thead>\n",
       "  <tbody>\n",
       "    <tr>\n",
       "      <th>879</th>\n",
       "      <td>317905</td>\n",
       "      <td>Come and go as  you please in BKLN!</td>\n",
       "      <td>1631733</td>\n",
       "      <td>Jane</td>\n",
       "      <td>Brooklyn</td>\n",
       "      <td>Kensington</td>\n",
       "      <td>40.64354</td>\n",
       "      <td>-73.97777</td>\n",
       "      <td>Entire home/apt</td>\n",
       "      <td>89</td>\n",
       "      <td>3</td>\n",
       "      <td>62</td>\n",
       "      <td>2019-01-02</td>\n",
       "      <td>0.71</td>\n",
       "      <td>1</td>\n",
       "      <td>189</td>\n",
       "    </tr>\n",
       "    <tr>\n",
       "      <th>44383</th>\n",
       "      <td>34205267</td>\n",
       "      <td>Spacious, sunny room in Queens/Brooklyn</td>\n",
       "      <td>913940</td>\n",
       "      <td>Giancarlo</td>\n",
       "      <td>Queens</td>\n",
       "      <td>Ridgewood</td>\n",
       "      <td>40.70666</td>\n",
       "      <td>-73.90779</td>\n",
       "      <td>Private room</td>\n",
       "      <td>30</td>\n",
       "      <td>21</td>\n",
       "      <td>0</td>\n",
       "      <td>NaN</td>\n",
       "      <td>NaN</td>\n",
       "      <td>1</td>\n",
       "      <td>73</td>\n",
       "    </tr>\n",
       "    <tr>\n",
       "      <th>15394</th>\n",
       "      <td>12342297</td>\n",
       "      <td>Private bedroom in high-ceiling 4BR apartment!</td>\n",
       "      <td>19953913</td>\n",
       "      <td>Alejandro</td>\n",
       "      <td>Manhattan</td>\n",
       "      <td>Hell's Kitchen</td>\n",
       "      <td>40.76116</td>\n",
       "      <td>-73.99016</td>\n",
       "      <td>Private room</td>\n",
       "      <td>120</td>\n",
       "      <td>2</td>\n",
       "      <td>17</td>\n",
       "      <td>2017-04-28</td>\n",
       "      <td>0.43</td>\n",
       "      <td>1</td>\n",
       "      <td>0</td>\n",
       "    </tr>\n",
       "    <tr>\n",
       "      <th>43230</th>\n",
       "      <td>33527778</td>\n",
       "      <td>Sonder | Stock Exchange | Stunning 3BR + Kitchen</td>\n",
       "      <td>219517861</td>\n",
       "      <td>Sonder (NYC)</td>\n",
       "      <td>Manhattan</td>\n",
       "      <td>Financial District</td>\n",
       "      <td>40.70763</td>\n",
       "      <td>-74.01050</td>\n",
       "      <td>Entire home/apt</td>\n",
       "      <td>470</td>\n",
       "      <td>2</td>\n",
       "      <td>5</td>\n",
       "      <td>2019-06-02</td>\n",
       "      <td>1.88</td>\n",
       "      <td>327</td>\n",
       "      <td>272</td>\n",
       "    </tr>\n",
       "    <tr>\n",
       "      <th>16332</th>\n",
       "      <td>13136376</td>\n",
       "      <td>Spacious 2 Bedroom with Balcony</td>\n",
       "      <td>16110448</td>\n",
       "      <td>Gingie</td>\n",
       "      <td>Manhattan</td>\n",
       "      <td>East Harlem</td>\n",
       "      <td>40.79658</td>\n",
       "      <td>-73.93287</td>\n",
       "      <td>Entire home/apt</td>\n",
       "      <td>199</td>\n",
       "      <td>2</td>\n",
       "      <td>30</td>\n",
       "      <td>2019-06-03</td>\n",
       "      <td>0.80</td>\n",
       "      <td>1</td>\n",
       "      <td>30</td>\n",
       "    </tr>\n",
       "    <tr>\n",
       "      <th>5966</th>\n",
       "      <td>4365276</td>\n",
       "      <td>Entire 2BR APT (not a railroad)</td>\n",
       "      <td>3081990</td>\n",
       "      <td>Amanda</td>\n",
       "      <td>Brooklyn</td>\n",
       "      <td>Williamsburg</td>\n",
       "      <td>40.70698</td>\n",
       "      <td>-73.95406</td>\n",
       "      <td>Entire home/apt</td>\n",
       "      <td>170</td>\n",
       "      <td>1</td>\n",
       "      <td>141</td>\n",
       "      <td>2019-06-22</td>\n",
       "      <td>3.05</td>\n",
       "      <td>1</td>\n",
       "      <td>28</td>\n",
       "    </tr>\n",
       "  </tbody>\n",
       "</table>\n",
       "</div>"
      ],
      "text/plain": [
       "             id                                              name    host_id  \\\n",
       "879      317905               Come and go as  you please in BKLN!    1631733   \n",
       "44383  34205267           Spacious, sunny room in Queens/Brooklyn     913940   \n",
       "15394  12342297    Private bedroom in high-ceiling 4BR apartment!   19953913   \n",
       "43230  33527778  Sonder | Stock Exchange | Stunning 3BR + Kitchen  219517861   \n",
       "16332  13136376                   Spacious 2 Bedroom with Balcony   16110448   \n",
       "5966    4365276                   Entire 2BR APT (not a railroad)    3081990   \n",
       "\n",
       "          host_name neighbourhood_group       neighbourhood  latitude  \\\n",
       "879            Jane            Brooklyn          Kensington  40.64354   \n",
       "44383     Giancarlo              Queens           Ridgewood  40.70666   \n",
       "15394     Alejandro           Manhattan      Hell's Kitchen  40.76116   \n",
       "43230  Sonder (NYC)           Manhattan  Financial District  40.70763   \n",
       "16332        Gingie           Manhattan         East Harlem  40.79658   \n",
       "5966         Amanda            Brooklyn        Williamsburg  40.70698   \n",
       "\n",
       "       longitude        room_type  price  minimum_nights  number_of_reviews  \\\n",
       "879    -73.97777  Entire home/apt     89               3                 62   \n",
       "44383  -73.90779     Private room     30              21                  0   \n",
       "15394  -73.99016     Private room    120               2                 17   \n",
       "43230  -74.01050  Entire home/apt    470               2                  5   \n",
       "16332  -73.93287  Entire home/apt    199               2                 30   \n",
       "5966   -73.95406  Entire home/apt    170               1                141   \n",
       "\n",
       "      last_review  reviews_per_month  calculated_host_listings_count  \\\n",
       "879    2019-01-02               0.71                               1   \n",
       "44383         NaN                NaN                               1   \n",
       "15394  2017-04-28               0.43                               1   \n",
       "43230  2019-06-02               1.88                             327   \n",
       "16332  2019-06-03               0.80                               1   \n",
       "5966   2019-06-22               3.05                               1   \n",
       "\n",
       "       availability_365  \n",
       "879                 189  \n",
       "44383                73  \n",
       "15394                 0  \n",
       "43230               272  \n",
       "16332                30  \n",
       "5966                 28  "
      ]
     },
     "execution_count": 429,
     "metadata": {},
     "output_type": "execute_result"
    }
   ],
   "source": [
    "pd.set_option('display.max_columns', None)\n",
    "airbnb_df.sample(6)"
   ]
  },
  {
   "cell_type": "code",
   "execution_count": 430,
   "id": "c3d2a8a8",
   "metadata": {},
   "outputs": [
    {
     "name": "stdout",
     "output_type": "stream",
     "text": [
      "<class 'pandas.core.frame.DataFrame'>\n",
      "RangeIndex: 48895 entries, 0 to 48894\n",
      "Data columns (total 16 columns):\n",
      " #   Column                          Non-Null Count  Dtype  \n",
      "---  ------                          --------------  -----  \n",
      " 0   id                              48895 non-null  int64  \n",
      " 1   name                            48879 non-null  object \n",
      " 2   host_id                         48895 non-null  int64  \n",
      " 3   host_name                       48874 non-null  object \n",
      " 4   neighbourhood_group             48895 non-null  object \n",
      " 5   neighbourhood                   48895 non-null  object \n",
      " 6   latitude                        48895 non-null  float64\n",
      " 7   longitude                       48895 non-null  float64\n",
      " 8   room_type                       48895 non-null  object \n",
      " 9   price                           48895 non-null  int64  \n",
      " 10  minimum_nights                  48895 non-null  int64  \n",
      " 11  number_of_reviews               48895 non-null  int64  \n",
      " 12  last_review                     38843 non-null  object \n",
      " 13  reviews_per_month               38843 non-null  float64\n",
      " 14  calculated_host_listings_count  48895 non-null  int64  \n",
      " 15  availability_365                48895 non-null  int64  \n",
      "dtypes: float64(3), int64(7), object(6)\n",
      "memory usage: 6.0+ MB\n"
     ]
    }
   ],
   "source": [
    "airbnb_df.info()"
   ]
  },
  {
   "cell_type": "code",
   "execution_count": 431,
   "id": "ab7d68df",
   "metadata": {
    "scrolled": true
   },
   "outputs": [
    {
     "data": {
      "text/html": [
       "<div>\n",
       "<style scoped>\n",
       "    .dataframe tbody tr th:only-of-type {\n",
       "        vertical-align: middle;\n",
       "    }\n",
       "\n",
       "    .dataframe tbody tr th {\n",
       "        vertical-align: top;\n",
       "    }\n",
       "\n",
       "    .dataframe thead th {\n",
       "        text-align: right;\n",
       "    }\n",
       "</style>\n",
       "<table border=\"1\" class=\"dataframe\">\n",
       "  <thead>\n",
       "    <tr style=\"text-align: right;\">\n",
       "      <th></th>\n",
       "      <th>id</th>\n",
       "      <th>host_id</th>\n",
       "      <th>latitude</th>\n",
       "      <th>longitude</th>\n",
       "      <th>price</th>\n",
       "      <th>minimum_nights</th>\n",
       "      <th>number_of_reviews</th>\n",
       "      <th>reviews_per_month</th>\n",
       "      <th>calculated_host_listings_count</th>\n",
       "      <th>availability_365</th>\n",
       "    </tr>\n",
       "  </thead>\n",
       "  <tbody>\n",
       "    <tr>\n",
       "      <th>count</th>\n",
       "      <td>4.889500e+04</td>\n",
       "      <td>4.889500e+04</td>\n",
       "      <td>48895.000000</td>\n",
       "      <td>48895.000000</td>\n",
       "      <td>48895.000000</td>\n",
       "      <td>48895.000000</td>\n",
       "      <td>48895.000000</td>\n",
       "      <td>38843.000000</td>\n",
       "      <td>48895.000000</td>\n",
       "      <td>48895.000000</td>\n",
       "    </tr>\n",
       "    <tr>\n",
       "      <th>mean</th>\n",
       "      <td>1.901714e+07</td>\n",
       "      <td>6.762001e+07</td>\n",
       "      <td>40.728949</td>\n",
       "      <td>-73.952170</td>\n",
       "      <td>152.720687</td>\n",
       "      <td>7.029962</td>\n",
       "      <td>23.274466</td>\n",
       "      <td>1.373221</td>\n",
       "      <td>7.143982</td>\n",
       "      <td>112.781327</td>\n",
       "    </tr>\n",
       "    <tr>\n",
       "      <th>std</th>\n",
       "      <td>1.098311e+07</td>\n",
       "      <td>7.861097e+07</td>\n",
       "      <td>0.054530</td>\n",
       "      <td>0.046157</td>\n",
       "      <td>240.154170</td>\n",
       "      <td>20.510550</td>\n",
       "      <td>44.550582</td>\n",
       "      <td>1.680442</td>\n",
       "      <td>32.952519</td>\n",
       "      <td>131.622289</td>\n",
       "    </tr>\n",
       "    <tr>\n",
       "      <th>min</th>\n",
       "      <td>2.539000e+03</td>\n",
       "      <td>2.438000e+03</td>\n",
       "      <td>40.499790</td>\n",
       "      <td>-74.244420</td>\n",
       "      <td>0.000000</td>\n",
       "      <td>1.000000</td>\n",
       "      <td>0.000000</td>\n",
       "      <td>0.010000</td>\n",
       "      <td>1.000000</td>\n",
       "      <td>0.000000</td>\n",
       "    </tr>\n",
       "    <tr>\n",
       "      <th>25%</th>\n",
       "      <td>9.471945e+06</td>\n",
       "      <td>7.822033e+06</td>\n",
       "      <td>40.690100</td>\n",
       "      <td>-73.983070</td>\n",
       "      <td>69.000000</td>\n",
       "      <td>1.000000</td>\n",
       "      <td>1.000000</td>\n",
       "      <td>0.190000</td>\n",
       "      <td>1.000000</td>\n",
       "      <td>0.000000</td>\n",
       "    </tr>\n",
       "    <tr>\n",
       "      <th>50%</th>\n",
       "      <td>1.967728e+07</td>\n",
       "      <td>3.079382e+07</td>\n",
       "      <td>40.723070</td>\n",
       "      <td>-73.955680</td>\n",
       "      <td>106.000000</td>\n",
       "      <td>3.000000</td>\n",
       "      <td>5.000000</td>\n",
       "      <td>0.720000</td>\n",
       "      <td>1.000000</td>\n",
       "      <td>45.000000</td>\n",
       "    </tr>\n",
       "    <tr>\n",
       "      <th>75%</th>\n",
       "      <td>2.915218e+07</td>\n",
       "      <td>1.074344e+08</td>\n",
       "      <td>40.763115</td>\n",
       "      <td>-73.936275</td>\n",
       "      <td>175.000000</td>\n",
       "      <td>5.000000</td>\n",
       "      <td>24.000000</td>\n",
       "      <td>2.020000</td>\n",
       "      <td>2.000000</td>\n",
       "      <td>227.000000</td>\n",
       "    </tr>\n",
       "    <tr>\n",
       "      <th>max</th>\n",
       "      <td>3.648724e+07</td>\n",
       "      <td>2.743213e+08</td>\n",
       "      <td>40.913060</td>\n",
       "      <td>-73.712990</td>\n",
       "      <td>10000.000000</td>\n",
       "      <td>1250.000000</td>\n",
       "      <td>629.000000</td>\n",
       "      <td>58.500000</td>\n",
       "      <td>327.000000</td>\n",
       "      <td>365.000000</td>\n",
       "    </tr>\n",
       "  </tbody>\n",
       "</table>\n",
       "</div>"
      ],
      "text/plain": [
       "                 id       host_id      latitude     longitude         price  \\\n",
       "count  4.889500e+04  4.889500e+04  48895.000000  48895.000000  48895.000000   \n",
       "mean   1.901714e+07  6.762001e+07     40.728949    -73.952170    152.720687   \n",
       "std    1.098311e+07  7.861097e+07      0.054530      0.046157    240.154170   \n",
       "min    2.539000e+03  2.438000e+03     40.499790    -74.244420      0.000000   \n",
       "25%    9.471945e+06  7.822033e+06     40.690100    -73.983070     69.000000   \n",
       "50%    1.967728e+07  3.079382e+07     40.723070    -73.955680    106.000000   \n",
       "75%    2.915218e+07  1.074344e+08     40.763115    -73.936275    175.000000   \n",
       "max    3.648724e+07  2.743213e+08     40.913060    -73.712990  10000.000000   \n",
       "\n",
       "       minimum_nights  number_of_reviews  reviews_per_month  \\\n",
       "count    48895.000000       48895.000000       38843.000000   \n",
       "mean         7.029962          23.274466           1.373221   \n",
       "std         20.510550          44.550582           1.680442   \n",
       "min          1.000000           0.000000           0.010000   \n",
       "25%          1.000000           1.000000           0.190000   \n",
       "50%          3.000000           5.000000           0.720000   \n",
       "75%          5.000000          24.000000           2.020000   \n",
       "max       1250.000000         629.000000          58.500000   \n",
       "\n",
       "       calculated_host_listings_count  availability_365  \n",
       "count                    48895.000000      48895.000000  \n",
       "mean                         7.143982        112.781327  \n",
       "std                         32.952519        131.622289  \n",
       "min                          1.000000          0.000000  \n",
       "25%                          1.000000          0.000000  \n",
       "50%                          1.000000         45.000000  \n",
       "75%                          2.000000        227.000000  \n",
       "max                        327.000000        365.000000  "
      ]
     },
     "execution_count": 431,
     "metadata": {},
     "output_type": "execute_result"
    }
   ],
   "source": [
    "airbnb_df.describe()"
   ]
  },
  {
   "cell_type": "markdown",
   "id": "c6fb278b",
   "metadata": {},
   "source": [
    "# Analysing Price column"
   ]
  },
  {
   "cell_type": "code",
   "execution_count": 432,
   "id": "ac9bcb8f",
   "metadata": {},
   "outputs": [
    {
     "data": {
      "text/plain": [
       "array([  149,   225,   150,    89,    80,   200,    60,    79,   135,\n",
       "          85,   120,   140,   215,    99,   190,   299,   130,   110,\n",
       "          44,   180,    50,    52,    55,    70,    35,    40,    68,\n",
       "         115,   151,   228,   144,    69,    49,   375,   250,   275,\n",
       "         230,    51,    65,   105,    95,   145,   285,    94,   800,\n",
       "         131,    98,   100,   125,   175,   500,   101,   220,    59,\n",
       "         350,   199,   325,   235,   170,   400,    75,    90,   185,\n",
       "          77,    76,   160,   195,   156,   219,   475,   165,   196,\n",
       "          83,   123,   265,   249,   121,    45,    71,    64,   159,\n",
       "         189,   239,   305,   155,    92,    36,    37,   205,    39,\n",
       "         390,   129,   212,   124,   122,   109,   575,   229,   169,\n",
       "         113,   179,   349,   139,   650,    67,   599,   211,   290,\n",
       "          87,   395,   260,    97,   132,   141,   495,   259,    96,\n",
       "         295,   451,   300,    42,   255,    72,    88,   450,   198,\n",
       "          46,    33,   106,    91,  2000,   429,   107,    43,   248,\n",
       "          41,   157,   172,   146,   116,   288,   270,   241,   399,\n",
       "         438,   279,   137,   280,   226,   154,   700,   246,   119,\n",
       "         850,    81,    54,   760,    48,    58,   153,    73,   485,\n",
       "         310,   167,   147,    34,    93,    56,  1300,   127,   402,\n",
       "          30,   240,   385,    47,   209,   192,    86,   245,   499,\n",
       "         387,   178,  3000,   549,    20,    74,   104,   298,   269,\n",
       "         138,   208,   142,   174,   315,   210,   311,    82,   117,\n",
       "         380,   328,   102,   118,   217,   152,   197,   133,   331,\n",
       "         128,   136,   148,  1000,   263,   433,    61,   234,   595,\n",
       "         108,   355,   134,    62,   550,    84,    78,   900,   103,\n",
       "         330,   425,   168,    66,   625,   171,   187,   600,   312,\n",
       "          38,   163,   158,   173,   465,    63,   340,    57,  4000,\n",
       "         999,   289,   166,   176,   339,   191,  2500,   329,   890,\n",
       "          53,   420,   950,   334,  1395,   221,   182,   750,   181,\n",
       "         112,  1500,  1899,   188,   262,   111,   162,    29,   232,\n",
       "        5000,   345,  1100,   224,    10,   194,    31,  1200,   440,\n",
       "         439,   555,   143,   184,   799,   455,   193,   161,   201,\n",
       "        1700,   525,    32,   251,  1999,   480,   320,   164,   272,\n",
       "         177,   560,  6000,   379,   303,   675,   749,  5250,  1550,\n",
       "        1250,  1485,   369,  6500,  2750,  3750,  1600,   975,    25,\n",
       "          18,  2300,   409,   218,   430,  4500,  8000,   795,   414,\n",
       "         126,    16,   785,   370,    22,   316,   264,   318,   273,\n",
       "         308,   365,   216,   545,   860,   540,   233,  1400,   383,\n",
       "         419,  1050,  2695,   985,   360,   699,   227,   247,   895,\n",
       "        9999,   258,  2400,   254,   346,   415,   995,  1763,   510,\n",
       "        1450,   281,    27,    28,   825,   524,   202,   244,   114,\n",
       "         341,   257,   322,   276,   207,   445,   284,   449,   680,\n",
       "        1495,   256,   888,   389,   460, 10000,   222,   243,   267,\n",
       "         398,   386,   319,   238,   374,   490,   335,  1195,   203,\n",
       "         469,   186,   352,   297,   237,   745,   410,  1170,   261,\n",
       "        1150,   434,   590,   899,   304,   296,   183,   531,   214,\n",
       "         655,    24,   477,   372,   206,    26,   587,   204,  1731,\n",
       "        1002,   333,   283,   814,  1800,   278,   421,   690,   619,\n",
       "        2100,   348,   223,   268,   359,   436,   935,   274,   376,\n",
       "         980,   294,   559,   509,   301,   408,  3800,   479,  2350,\n",
       "         822,    23,   407,   489,   252,   672,   378,   584,   894,\n",
       "         643,   462,   649,   302,   321,   534,   748,   487,   236,\n",
       "        1020,    19,  1599,    21,   585,  2590,    11,   640,   459,\n",
       "          12,  2250,   484,   337,   317,    15,  2800,  1475,   615,\n",
       "        2900,   287,     0,   515,  1067,   424,   578,   789,  1795,\n",
       "        1095,   530,  3900,   496,   435,   422,   367,   695,  1177,\n",
       "         790,   253,   573,   766,   231,   840,   577,   589,   949,\n",
       "         358,   213,  2200,   497,  1066,   412,   647,   277,   720,\n",
       "        2010,  3210,  4160,  1046,   271,   416,  1680,  7703,  3518,\n",
       "        6419,  2626,  2103,  8500,  2990,   620,   394,   323,   974,\n",
       "         344,  1333,   780,   347,   393,   309,   483,   737,   470,\n",
       "         689,   639,   848,   403,   471,   377,   282,   314,   478,\n",
       "         670,  2545,  1115,   520,   913,   505,   718,   692,  3600,\n",
       "         307,   306,  1880,   714,   956,   266,   292,  2999,   418,\n",
       "         452,   397,   343,   291,   392,   356,   242,   396,   332,\n",
       "         361,   453,   481,   466,   388,   423,   362,   313,   805,\n",
       "         725,   443,  1350,  3200,   293,   432,   444,  1075,   820,\n",
       "         373,  1750,  1080,  1299,  1295,   519,  1978,  1494,  3512,\n",
       "         382,   404,   503,   472,   454,   431,   468,   498,   612,\n",
       "         488,  1497,  2850,   990,   506,   324,  1315,   446,  7500,\n",
       "        3613,  2600,  4100,   794,  1145,  1306,   336,  5100,   898,\n",
       "         327,   442,   474,  1799,   353,  4200,   616,  6800,   945,\n",
       "         539,   426,   875,   463,   688,   580,   583,   381,  1900,\n",
       "         659,   830,    13,   447,  1099,   428,   920,   930,  2995,\n",
       "         342,   843,   417,  1308,   561,  1369,  1749,   338],\n",
       "      dtype=int64)"
      ]
     },
     "execution_count": 432,
     "metadata": {},
     "output_type": "execute_result"
    }
   ],
   "source": [
    "airbnb_df['price'].unique()"
   ]
  },
  {
   "cell_type": "code",
   "execution_count": 433,
   "id": "cec0efdb",
   "metadata": {},
   "outputs": [
    {
     "data": {
      "text/plain": [
       "price\n",
       "100    2051\n",
       "150    2047\n",
       "50     1534\n",
       "60     1458\n",
       "200    1401\n",
       "       ... \n",
       "780       1\n",
       "386       1\n",
       "888       1\n",
       "483       1\n",
       "338       1\n",
       "Name: count, Length: 674, dtype: int64"
      ]
     },
     "execution_count": 433,
     "metadata": {},
     "output_type": "execute_result"
    }
   ],
   "source": [
    "airbnb_df['price'].value_counts(dropna=False)"
   ]
  },
  {
   "cell_type": "markdown",
   "id": "3ae19de1",
   "metadata": {},
   "source": [
    "As we can see there are no values in the price column"
   ]
  },
  {
   "cell_type": "markdown",
   "id": "653a4bf3",
   "metadata": {},
   "source": [
    "# Numeric Column Analysis"
   ]
  },
  {
   "cell_type": "code",
   "execution_count": 434,
   "id": "fcffe06a",
   "metadata": {},
   "outputs": [],
   "source": [
    "def find_non_convertible_floats(series):\n",
    "\n",
    "    non_convertibles = set()\n",
    "    for item in series:\n",
    "        try:\n",
    "            float(item)  # Try converting to float\n",
    "        except ValueError:\n",
    "            non_convertibles.add(item)  # Add to set if conversion fails\n",
    "    return non_convertibles"
   ]
  },
  {
   "cell_type": "code",
   "execution_count": 435,
   "id": "b6ff66da",
   "metadata": {},
   "outputs": [
    {
     "data": {
      "text/plain": [
       "set()"
      ]
     },
     "execution_count": 435,
     "metadata": {},
     "output_type": "execute_result"
    }
   ],
   "source": [
    "find_non_convertible_floats(airbnb_df['price'])"
   ]
  },
  {
   "cell_type": "code",
   "execution_count": 436,
   "id": "31ba1681",
   "metadata": {},
   "outputs": [],
   "source": [
    "# we can convert it to the float dtype\n",
    "airbnb_df['price']=airbnb_df['price'].astype(float)"
   ]
  },
  {
   "cell_type": "code",
   "execution_count": 437,
   "id": "3f85bd6a",
   "metadata": {},
   "outputs": [
    {
     "name": "stdout",
     "output_type": "stream",
     "text": [
      "<class 'pandas.core.frame.DataFrame'>\n",
      "RangeIndex: 48895 entries, 0 to 48894\n",
      "Data columns (total 16 columns):\n",
      " #   Column                          Non-Null Count  Dtype  \n",
      "---  ------                          --------------  -----  \n",
      " 0   id                              48895 non-null  int64  \n",
      " 1   name                            48879 non-null  object \n",
      " 2   host_id                         48895 non-null  int64  \n",
      " 3   host_name                       48874 non-null  object \n",
      " 4   neighbourhood_group             48895 non-null  object \n",
      " 5   neighbourhood                   48895 non-null  object \n",
      " 6   latitude                        48895 non-null  float64\n",
      " 7   longitude                       48895 non-null  float64\n",
      " 8   room_type                       48895 non-null  object \n",
      " 9   price                           48895 non-null  float64\n",
      " 10  minimum_nights                  48895 non-null  int64  \n",
      " 11  number_of_reviews               48895 non-null  int64  \n",
      " 12  last_review                     38843 non-null  object \n",
      " 13  reviews_per_month               38843 non-null  float64\n",
      " 14  calculated_host_listings_count  48895 non-null  int64  \n",
      " 15  availability_365                48895 non-null  int64  \n",
      "dtypes: float64(4), int64(6), object(6)\n",
      "memory usage: 6.0+ MB\n"
     ]
    }
   ],
   "source": [
    "airbnb_df.info()"
   ]
  },
  {
   "cell_type": "markdown",
   "id": "0275dc0e",
   "metadata": {},
   "source": [
    "Changing all int64 into float64"
   ]
  },
  {
   "cell_type": "code",
   "execution_count": 438,
   "id": "75721063",
   "metadata": {},
   "outputs": [
    {
     "name": "stdout",
     "output_type": "stream",
     "text": [
      "<class 'pandas.core.frame.DataFrame'>\n",
      "RangeIndex: 48895 entries, 0 to 48894\n",
      "Data columns (total 16 columns):\n",
      " #   Column                          Non-Null Count  Dtype  \n",
      "---  ------                          --------------  -----  \n",
      " 0   id                              48895 non-null  float64\n",
      " 1   name                            48879 non-null  object \n",
      " 2   host_id                         48895 non-null  float64\n",
      " 3   host_name                       48874 non-null  object \n",
      " 4   neighbourhood_group             48895 non-null  object \n",
      " 5   neighbourhood                   48895 non-null  object \n",
      " 6   latitude                        48895 non-null  float64\n",
      " 7   longitude                       48895 non-null  float64\n",
      " 8   room_type                       48895 non-null  object \n",
      " 9   price                           48895 non-null  float64\n",
      " 10  minimum_nights                  48895 non-null  float64\n",
      " 11  number_of_reviews               48895 non-null  float64\n",
      " 12  last_review                     38843 non-null  object \n",
      " 13  reviews_per_month               38843 non-null  float64\n",
      " 14  calculated_host_listings_count  48895 non-null  float64\n",
      " 15  availability_365                48895 non-null  float64\n",
      "dtypes: float64(10), object(6)\n",
      "memory usage: 6.0+ MB\n"
     ]
    }
   ],
   "source": [
    "for col in airbnb_df :\n",
    "    if airbnb_df[col].dtypes == 'int64' :\n",
    "        airbnb_df[col]=airbnb_df[col].astype('float64')\n",
    "\n",
    "airbnb_df.info()"
   ]
  },
  {
   "cell_type": "markdown",
   "id": "884bbbe0",
   "metadata": {},
   "source": [
    "# Creating a categorical variable "
   ]
  },
  {
   "cell_type": "markdown",
   "id": "348188ca",
   "metadata": {},
   "source": [
    "To find categorical columns in the dataset, we can look at the unique values and their frequencies. This investigation provides insights into columns with discrete data that does not follow a specific order, making them ideal candidates for categorical representation."
   ]
  },
  {
   "cell_type": "code",
   "execution_count": 439,
   "id": "f6420889",
   "metadata": {},
   "outputs": [],
   "source": [
    "def price_category(price):\n",
    "    if price <= 100:\n",
    "        return 'low'\n",
    "    elif 100 < price <= 200:\n",
    "        return 'medium'\n",
    "    else:\n",
    "        return 'high'"
   ]
  },
  {
   "cell_type": "code",
   "execution_count": 440,
   "id": "38e308ba",
   "metadata": {},
   "outputs": [
    {
     "data": {
      "text/html": [
       "<div>\n",
       "<style scoped>\n",
       "    .dataframe tbody tr th:only-of-type {\n",
       "        vertical-align: middle;\n",
       "    }\n",
       "\n",
       "    .dataframe tbody tr th {\n",
       "        vertical-align: top;\n",
       "    }\n",
       "\n",
       "    .dataframe thead th {\n",
       "        text-align: right;\n",
       "    }\n",
       "</style>\n",
       "<table border=\"1\" class=\"dataframe\">\n",
       "  <thead>\n",
       "    <tr style=\"text-align: right;\">\n",
       "      <th></th>\n",
       "      <th>id</th>\n",
       "      <th>name</th>\n",
       "      <th>host_id</th>\n",
       "      <th>host_name</th>\n",
       "      <th>neighbourhood_group</th>\n",
       "      <th>neighbourhood</th>\n",
       "      <th>latitude</th>\n",
       "      <th>longitude</th>\n",
       "      <th>room_type</th>\n",
       "      <th>price</th>\n",
       "      <th>minimum_nights</th>\n",
       "      <th>number_of_reviews</th>\n",
       "      <th>last_review</th>\n",
       "      <th>reviews_per_month</th>\n",
       "      <th>calculated_host_listings_count</th>\n",
       "      <th>availability_365</th>\n",
       "      <th>price category</th>\n",
       "    </tr>\n",
       "  </thead>\n",
       "  <tbody>\n",
       "    <tr>\n",
       "      <th>0</th>\n",
       "      <td>2539.0</td>\n",
       "      <td>Clean &amp; quiet apt home by the park</td>\n",
       "      <td>2787.0</td>\n",
       "      <td>John</td>\n",
       "      <td>Brooklyn</td>\n",
       "      <td>Kensington</td>\n",
       "      <td>40.64749</td>\n",
       "      <td>-73.97237</td>\n",
       "      <td>Private room</td>\n",
       "      <td>149.0</td>\n",
       "      <td>1.0</td>\n",
       "      <td>9.0</td>\n",
       "      <td>2018-10-19</td>\n",
       "      <td>0.21</td>\n",
       "      <td>6.0</td>\n",
       "      <td>365.0</td>\n",
       "      <td>medium</td>\n",
       "    </tr>\n",
       "    <tr>\n",
       "      <th>1</th>\n",
       "      <td>2595.0</td>\n",
       "      <td>Skylit Midtown Castle</td>\n",
       "      <td>2845.0</td>\n",
       "      <td>Jennifer</td>\n",
       "      <td>Manhattan</td>\n",
       "      <td>Midtown</td>\n",
       "      <td>40.75362</td>\n",
       "      <td>-73.98377</td>\n",
       "      <td>Entire home/apt</td>\n",
       "      <td>225.0</td>\n",
       "      <td>1.0</td>\n",
       "      <td>45.0</td>\n",
       "      <td>2019-05-21</td>\n",
       "      <td>0.38</td>\n",
       "      <td>2.0</td>\n",
       "      <td>355.0</td>\n",
       "      <td>high</td>\n",
       "    </tr>\n",
       "    <tr>\n",
       "      <th>2</th>\n",
       "      <td>3647.0</td>\n",
       "      <td>THE VILLAGE OF HARLEM....NEW YORK !</td>\n",
       "      <td>4632.0</td>\n",
       "      <td>Elisabeth</td>\n",
       "      <td>Manhattan</td>\n",
       "      <td>Harlem</td>\n",
       "      <td>40.80902</td>\n",
       "      <td>-73.94190</td>\n",
       "      <td>Private room</td>\n",
       "      <td>150.0</td>\n",
       "      <td>3.0</td>\n",
       "      <td>0.0</td>\n",
       "      <td>NaN</td>\n",
       "      <td>NaN</td>\n",
       "      <td>1.0</td>\n",
       "      <td>365.0</td>\n",
       "      <td>medium</td>\n",
       "    </tr>\n",
       "    <tr>\n",
       "      <th>3</th>\n",
       "      <td>3831.0</td>\n",
       "      <td>Cozy Entire Floor of Brownstone</td>\n",
       "      <td>4869.0</td>\n",
       "      <td>LisaRoxanne</td>\n",
       "      <td>Brooklyn</td>\n",
       "      <td>Clinton Hill</td>\n",
       "      <td>40.68514</td>\n",
       "      <td>-73.95976</td>\n",
       "      <td>Entire home/apt</td>\n",
       "      <td>89.0</td>\n",
       "      <td>1.0</td>\n",
       "      <td>270.0</td>\n",
       "      <td>2019-07-05</td>\n",
       "      <td>4.64</td>\n",
       "      <td>1.0</td>\n",
       "      <td>194.0</td>\n",
       "      <td>low</td>\n",
       "    </tr>\n",
       "    <tr>\n",
       "      <th>4</th>\n",
       "      <td>5022.0</td>\n",
       "      <td>Entire Apt: Spacious Studio/Loft by central park</td>\n",
       "      <td>7192.0</td>\n",
       "      <td>Laura</td>\n",
       "      <td>Manhattan</td>\n",
       "      <td>East Harlem</td>\n",
       "      <td>40.79851</td>\n",
       "      <td>-73.94399</td>\n",
       "      <td>Entire home/apt</td>\n",
       "      <td>80.0</td>\n",
       "      <td>10.0</td>\n",
       "      <td>9.0</td>\n",
       "      <td>2018-11-19</td>\n",
       "      <td>0.10</td>\n",
       "      <td>1.0</td>\n",
       "      <td>0.0</td>\n",
       "      <td>low</td>\n",
       "    </tr>\n",
       "  </tbody>\n",
       "</table>\n",
       "</div>"
      ],
      "text/plain": [
       "       id                                              name  host_id  \\\n",
       "0  2539.0                Clean & quiet apt home by the park   2787.0   \n",
       "1  2595.0                             Skylit Midtown Castle   2845.0   \n",
       "2  3647.0               THE VILLAGE OF HARLEM....NEW YORK !   4632.0   \n",
       "3  3831.0                   Cozy Entire Floor of Brownstone   4869.0   \n",
       "4  5022.0  Entire Apt: Spacious Studio/Loft by central park   7192.0   \n",
       "\n",
       "     host_name neighbourhood_group neighbourhood  latitude  longitude  \\\n",
       "0         John            Brooklyn    Kensington  40.64749  -73.97237   \n",
       "1     Jennifer           Manhattan       Midtown  40.75362  -73.98377   \n",
       "2    Elisabeth           Manhattan        Harlem  40.80902  -73.94190   \n",
       "3  LisaRoxanne            Brooklyn  Clinton Hill  40.68514  -73.95976   \n",
       "4        Laura           Manhattan   East Harlem  40.79851  -73.94399   \n",
       "\n",
       "         room_type  price  minimum_nights  number_of_reviews last_review  \\\n",
       "0     Private room  149.0             1.0                9.0  2018-10-19   \n",
       "1  Entire home/apt  225.0             1.0               45.0  2019-05-21   \n",
       "2     Private room  150.0             3.0                0.0         NaN   \n",
       "3  Entire home/apt   89.0             1.0              270.0  2019-07-05   \n",
       "4  Entire home/apt   80.0            10.0                9.0  2018-11-19   \n",
       "\n",
       "   reviews_per_month  calculated_host_listings_count  availability_365  \\\n",
       "0               0.21                             6.0             365.0   \n",
       "1               0.38                             2.0             355.0   \n",
       "2                NaN                             1.0             365.0   \n",
       "3               4.64                             1.0             194.0   \n",
       "4               0.10                             1.0               0.0   \n",
       "\n",
       "  price category  \n",
       "0         medium  \n",
       "1           high  \n",
       "2         medium  \n",
       "3            low  \n",
       "4            low  "
      ]
     },
     "execution_count": 440,
     "metadata": {},
     "output_type": "execute_result"
    }
   ],
   "source": [
    "airbnb_df['price category'] = airbnb_df['price'].apply(price_category)\n",
    "airbnb_df.head()"
   ]
  },
  {
   "cell_type": "code",
   "execution_count": 441,
   "id": "ca494cba",
   "metadata": {
    "scrolled": true
   },
   "outputs": [
    {
     "data": {
      "text/plain": [
       "array(['Brooklyn', 'Manhattan', 'Queens', 'Staten Island', 'Bronx'],\n",
       "      dtype=object)"
      ]
     },
     "execution_count": 441,
     "metadata": {},
     "output_type": "execute_result"
    }
   ],
   "source": [
    "airbnb_df['neighbourhood_group'].unique()"
   ]
  },
  {
   "cell_type": "code",
   "execution_count": 442,
   "id": "0a9cbc5d",
   "metadata": {},
   "outputs": [
    {
     "data": {
      "text/plain": [
       "neighbourhood_group\n",
       "Manhattan        21661\n",
       "Brooklyn         20104\n",
       "Queens            5666\n",
       "Bronx             1091\n",
       "Staten Island      373\n",
       "Name: count, dtype: int64"
      ]
     },
     "execution_count": 442,
     "metadata": {},
     "output_type": "execute_result"
    }
   ],
   "source": [
    "airbnb_df['neighbourhood_group'].value_counts(dropna=False)"
   ]
  },
  {
   "cell_type": "code",
   "execution_count": 443,
   "id": "a5712834",
   "metadata": {},
   "outputs": [],
   "source": [
    "airbnb_df['neighbourhood_group']=airbnb_df['neighbourhood_group'].astype('category')"
   ]
  },
  {
   "cell_type": "code",
   "execution_count": 444,
   "id": "18e734f9",
   "metadata": {},
   "outputs": [
    {
     "name": "stdout",
     "output_type": "stream",
     "text": [
      "<class 'pandas.core.frame.DataFrame'>\n",
      "RangeIndex: 48895 entries, 0 to 48894\n",
      "Data columns (total 17 columns):\n",
      " #   Column                          Non-Null Count  Dtype   \n",
      "---  ------                          --------------  -----   \n",
      " 0   id                              48895 non-null  float64 \n",
      " 1   name                            48879 non-null  object  \n",
      " 2   host_id                         48895 non-null  float64 \n",
      " 3   host_name                       48874 non-null  object  \n",
      " 4   neighbourhood_group             48895 non-null  category\n",
      " 5   neighbourhood                   48895 non-null  object  \n",
      " 6   latitude                        48895 non-null  float64 \n",
      " 7   longitude                       48895 non-null  float64 \n",
      " 8   room_type                       48895 non-null  object  \n",
      " 9   price                           48895 non-null  float64 \n",
      " 10  minimum_nights                  48895 non-null  float64 \n",
      " 11  number_of_reviews               48895 non-null  float64 \n",
      " 12  last_review                     38843 non-null  object  \n",
      " 13  reviews_per_month               38843 non-null  float64 \n",
      " 14  calculated_host_listings_count  48895 non-null  float64 \n",
      " 15  availability_365                48895 non-null  float64 \n",
      " 16  price category                  48895 non-null  object  \n",
      "dtypes: category(1), float64(10), object(6)\n",
      "memory usage: 6.0+ MB\n"
     ]
    }
   ],
   "source": [
    "airbnb_df.info()"
   ]
  },
  {
   "cell_type": "code",
   "execution_count": 445,
   "id": "5d3890a7",
   "metadata": {},
   "outputs": [
    {
     "data": {
      "text/plain": [
       "array(['Kensington', 'Midtown', 'Harlem', 'Clinton Hill', 'East Harlem',\n",
       "       'Murray Hill', 'Bedford-Stuyvesant', \"Hell's Kitchen\",\n",
       "       'Upper West Side', 'Chinatown', 'South Slope', 'West Village',\n",
       "       'Williamsburg', 'Fort Greene', 'Chelsea', 'Crown Heights',\n",
       "       'Park Slope', 'Windsor Terrace', 'Inwood', 'East Village',\n",
       "       'Greenpoint', 'Bushwick', 'Flatbush', 'Lower East Side',\n",
       "       'Prospect-Lefferts Gardens', 'Long Island City', 'Kips Bay',\n",
       "       'SoHo', 'Upper East Side', 'Prospect Heights',\n",
       "       'Washington Heights', 'Woodside', 'Brooklyn Heights',\n",
       "       'Carroll Gardens', 'Gowanus', 'Flatlands', 'Cobble Hill',\n",
       "       'Flushing', 'Boerum Hill', 'Sunnyside', 'DUMBO', 'St. George',\n",
       "       'Highbridge', 'Financial District', 'Ridgewood',\n",
       "       'Morningside Heights', 'Jamaica', 'Middle Village', 'NoHo',\n",
       "       'Ditmars Steinway', 'Flatiron District', 'Roosevelt Island',\n",
       "       'Greenwich Village', 'Little Italy', 'East Flatbush',\n",
       "       'Tompkinsville', 'Astoria', 'Clason Point', 'Eastchester',\n",
       "       'Kingsbridge', 'Two Bridges', 'Queens Village', 'Rockaway Beach',\n",
       "       'Forest Hills', 'Nolita', 'Woodlawn', 'University Heights',\n",
       "       'Gravesend', 'Gramercy', 'Allerton', 'East New York',\n",
       "       'Theater District', 'Concourse Village', 'Sheepshead Bay',\n",
       "       'Emerson Hill', 'Fort Hamilton', 'Bensonhurst', 'Tribeca',\n",
       "       'Shore Acres', 'Sunset Park', 'Concourse', 'Elmhurst',\n",
       "       'Brighton Beach', 'Jackson Heights', 'Cypress Hills', 'St. Albans',\n",
       "       'Arrochar', 'Rego Park', 'Wakefield', 'Clifton', 'Bay Ridge',\n",
       "       'Graniteville', 'Spuyten Duyvil', 'Stapleton', 'Briarwood',\n",
       "       'Ozone Park', 'Columbia St', 'Vinegar Hill', 'Mott Haven',\n",
       "       'Longwood', 'Canarsie', 'Battery Park City', 'Civic Center',\n",
       "       'East Elmhurst', 'New Springville', 'Morris Heights', 'Arverne',\n",
       "       'Cambria Heights', 'Tottenville', 'Mariners Harbor', 'Concord',\n",
       "       'Borough Park', 'Bayside', 'Downtown Brooklyn', 'Port Morris',\n",
       "       'Fieldston', 'Kew Gardens', 'Midwood', 'College Point',\n",
       "       'Mount Eden', 'City Island', 'Glendale', 'Port Richmond',\n",
       "       'Red Hook', 'Richmond Hill', 'Bellerose', 'Maspeth',\n",
       "       'Williamsbridge', 'Soundview', 'Woodhaven', 'Woodrow',\n",
       "       'Co-op City', 'Stuyvesant Town', 'Parkchester', 'North Riverdale',\n",
       "       'Dyker Heights', 'Bronxdale', 'Sea Gate', 'Riverdale',\n",
       "       'Kew Gardens Hills', 'Bay Terrace', 'Norwood', 'Claremont Village',\n",
       "       'Whitestone', 'Fordham', 'Bayswater', 'Navy Yard', 'Brownsville',\n",
       "       'Eltingville', 'Fresh Meadows', 'Mount Hope', 'Lighthouse Hill',\n",
       "       'Springfield Gardens', 'Howard Beach', 'Belle Harbor',\n",
       "       'Jamaica Estates', 'Van Nest', 'Morris Park', 'West Brighton',\n",
       "       'Far Rockaway', 'South Ozone Park', 'Tremont', 'Corona',\n",
       "       'Great Kills', 'Manhattan Beach', 'Marble Hill', 'Dongan Hills',\n",
       "       'Castleton Corners', 'East Morrisania', 'Hunts Point', 'Neponsit',\n",
       "       'Pelham Bay', 'Randall Manor', 'Throgs Neck', 'Todt Hill',\n",
       "       'West Farms', 'Silver Lake', 'Morrisania', 'Laurelton',\n",
       "       'Grymes Hill', 'Holliswood', 'Pelham Gardens', 'Belmont',\n",
       "       'Rosedale', 'Edgemere', 'New Brighton', 'Midland Beach',\n",
       "       'Baychester', 'Melrose', 'Bergen Beach', 'Richmondtown',\n",
       "       'Howland Hook', 'Schuylerville', 'Coney Island', 'New Dorp Beach',\n",
       "       \"Prince's Bay\", 'South Beach', 'Bath Beach', 'Jamaica Hills',\n",
       "       'Oakwood', 'Castle Hill', 'Hollis', 'Douglaston', 'Huguenot',\n",
       "       'Olinville', 'Edenwald', 'Grant City', 'Westerleigh',\n",
       "       'Bay Terrace, Staten Island', 'Westchester Square', 'Little Neck',\n",
       "       'Fort Wadsworth', 'Rosebank', 'Unionport', 'Mill Basin',\n",
       "       'Arden Heights', \"Bull's Head\", 'New Dorp', 'Rossville',\n",
       "       'Breezy Point', 'Willowbrook'], dtype=object)"
      ]
     },
     "execution_count": 445,
     "metadata": {},
     "output_type": "execute_result"
    }
   ],
   "source": [
    "airbnb_df['neighbourhood'].unique()"
   ]
  },
  {
   "cell_type": "code",
   "execution_count": 446,
   "id": "31f78ec8",
   "metadata": {},
   "outputs": [
    {
     "data": {
      "text/plain": [
       "neighbourhood\n",
       "Williamsburg          3920\n",
       "Bedford-Stuyvesant    3714\n",
       "Harlem                2658\n",
       "Bushwick              2465\n",
       "Upper West Side       1971\n",
       "                      ... \n",
       "Fort Wadsworth           1\n",
       "Richmondtown             1\n",
       "New Dorp                 1\n",
       "Rossville                1\n",
       "Willowbrook              1\n",
       "Name: count, Length: 221, dtype: int64"
      ]
     },
     "execution_count": 446,
     "metadata": {},
     "output_type": "execute_result"
    }
   ],
   "source": [
    "airbnb_df['neighbourhood'].value_counts(dropna=False)"
   ]
  },
  {
   "cell_type": "code",
   "execution_count": 447,
   "id": "8f6b860c",
   "metadata": {},
   "outputs": [],
   "source": [
    "airbnb_df['neighbourhood']=airbnb_df['neighbourhood'].astype('category')"
   ]
  },
  {
   "cell_type": "code",
   "execution_count": 448,
   "id": "4d3babae",
   "metadata": {},
   "outputs": [
    {
     "name": "stdout",
     "output_type": "stream",
     "text": [
      "<class 'pandas.core.frame.DataFrame'>\n",
      "RangeIndex: 48895 entries, 0 to 48894\n",
      "Data columns (total 17 columns):\n",
      " #   Column                          Non-Null Count  Dtype   \n",
      "---  ------                          --------------  -----   \n",
      " 0   id                              48895 non-null  float64 \n",
      " 1   name                            48879 non-null  object  \n",
      " 2   host_id                         48895 non-null  float64 \n",
      " 3   host_name                       48874 non-null  object  \n",
      " 4   neighbourhood_group             48895 non-null  category\n",
      " 5   neighbourhood                   48895 non-null  category\n",
      " 6   latitude                        48895 non-null  float64 \n",
      " 7   longitude                       48895 non-null  float64 \n",
      " 8   room_type                       48895 non-null  object  \n",
      " 9   price                           48895 non-null  float64 \n",
      " 10  minimum_nights                  48895 non-null  float64 \n",
      " 11  number_of_reviews               48895 non-null  float64 \n",
      " 12  last_review                     38843 non-null  object  \n",
      " 13  reviews_per_month               38843 non-null  float64 \n",
      " 14  calculated_host_listings_count  48895 non-null  float64 \n",
      " 15  availability_365                48895 non-null  float64 \n",
      " 16  price category                  48895 non-null  object  \n",
      "dtypes: category(2), float64(10), object(5)\n",
      "memory usage: 5.7+ MB\n"
     ]
    }
   ],
   "source": [
    "airbnb_df.info()"
   ]
  },
  {
   "cell_type": "markdown",
   "id": "78397eca",
   "metadata": {},
   "source": [
    "# Changing dtypes "
   ]
  },
  {
   "cell_type": "code",
   "execution_count": 449,
   "id": "b5451d46",
   "metadata": {},
   "outputs": [
    {
     "name": "stdout",
     "output_type": "stream",
     "text": [
      "<class 'pandas.core.frame.DataFrame'>\n",
      "RangeIndex: 48895 entries, 0 to 48894\n",
      "Data columns (total 17 columns):\n",
      " #   Column                          Non-Null Count  Dtype   \n",
      "---  ------                          --------------  -----   \n",
      " 0   id                              48895 non-null  float64 \n",
      " 1   name                            48879 non-null  object  \n",
      " 2   host_id                         48895 non-null  float64 \n",
      " 3   host_name                       48874 non-null  object  \n",
      " 4   neighbourhood_group             48895 non-null  category\n",
      " 5   neighbourhood                   48895 non-null  category\n",
      " 6   latitude                        48895 non-null  float64 \n",
      " 7   longitude                       48895 non-null  float64 \n",
      " 8   room_type                       48895 non-null  category\n",
      " 9   price                           48895 non-null  float64 \n",
      " 10  minimum_nights                  48895 non-null  float64 \n",
      " 11  number_of_reviews               48895 non-null  float64 \n",
      " 12  last_review                     38843 non-null  category\n",
      " 13  reviews_per_month               38843 non-null  float64 \n",
      " 14  calculated_host_listings_count  48895 non-null  float64 \n",
      " 15  availability_365                48895 non-null  float64 \n",
      " 16  price category                  48895 non-null  object  \n",
      "dtypes: category(4), float64(10), object(3)\n",
      "memory usage: 5.2+ MB\n"
     ]
    }
   ],
   "source": [
    "for x in ['room_type', 'last_review']:\n",
    "    airbnb_df[x]=airbnb_df[x].str.lower()\n",
    "    airbnb_df[x]=airbnb_df[x].astype('category')\n",
    "\n",
    "airbnb_df.info()"
   ]
  },
  {
   "cell_type": "markdown",
   "id": "7468e300",
   "metadata": {},
   "source": [
    "# Data cleaning\n",
    "\n",
    "Checking and Removing NaN values"
   ]
  },
  {
   "cell_type": "code",
   "execution_count": 450,
   "id": "116dfd88",
   "metadata": {},
   "outputs": [
    {
     "data": {
      "text/html": [
       "<div>\n",
       "<style scoped>\n",
       "    .dataframe tbody tr th:only-of-type {\n",
       "        vertical-align: middle;\n",
       "    }\n",
       "\n",
       "    .dataframe tbody tr th {\n",
       "        vertical-align: top;\n",
       "    }\n",
       "\n",
       "    .dataframe thead th {\n",
       "        text-align: right;\n",
       "    }\n",
       "</style>\n",
       "<table border=\"1\" class=\"dataframe\">\n",
       "  <thead>\n",
       "    <tr style=\"text-align: right;\">\n",
       "      <th></th>\n",
       "      <th>id</th>\n",
       "      <th>name</th>\n",
       "      <th>host_id</th>\n",
       "      <th>host_name</th>\n",
       "      <th>neighbourhood_group</th>\n",
       "      <th>neighbourhood</th>\n",
       "      <th>latitude</th>\n",
       "      <th>longitude</th>\n",
       "      <th>room_type</th>\n",
       "      <th>price</th>\n",
       "      <th>minimum_nights</th>\n",
       "      <th>number_of_reviews</th>\n",
       "      <th>last_review</th>\n",
       "      <th>reviews_per_month</th>\n",
       "      <th>calculated_host_listings_count</th>\n",
       "      <th>availability_365</th>\n",
       "      <th>price category</th>\n",
       "    </tr>\n",
       "  </thead>\n",
       "  <tbody>\n",
       "    <tr>\n",
       "      <th>0</th>\n",
       "      <td>False</td>\n",
       "      <td>False</td>\n",
       "      <td>False</td>\n",
       "      <td>False</td>\n",
       "      <td>False</td>\n",
       "      <td>False</td>\n",
       "      <td>False</td>\n",
       "      <td>False</td>\n",
       "      <td>False</td>\n",
       "      <td>False</td>\n",
       "      <td>False</td>\n",
       "      <td>False</td>\n",
       "      <td>False</td>\n",
       "      <td>False</td>\n",
       "      <td>False</td>\n",
       "      <td>False</td>\n",
       "      <td>False</td>\n",
       "    </tr>\n",
       "    <tr>\n",
       "      <th>1</th>\n",
       "      <td>False</td>\n",
       "      <td>False</td>\n",
       "      <td>False</td>\n",
       "      <td>False</td>\n",
       "      <td>False</td>\n",
       "      <td>False</td>\n",
       "      <td>False</td>\n",
       "      <td>False</td>\n",
       "      <td>False</td>\n",
       "      <td>False</td>\n",
       "      <td>False</td>\n",
       "      <td>False</td>\n",
       "      <td>False</td>\n",
       "      <td>False</td>\n",
       "      <td>False</td>\n",
       "      <td>False</td>\n",
       "      <td>False</td>\n",
       "    </tr>\n",
       "    <tr>\n",
       "      <th>2</th>\n",
       "      <td>False</td>\n",
       "      <td>False</td>\n",
       "      <td>False</td>\n",
       "      <td>False</td>\n",
       "      <td>False</td>\n",
       "      <td>False</td>\n",
       "      <td>False</td>\n",
       "      <td>False</td>\n",
       "      <td>False</td>\n",
       "      <td>False</td>\n",
       "      <td>False</td>\n",
       "      <td>False</td>\n",
       "      <td>True</td>\n",
       "      <td>True</td>\n",
       "      <td>False</td>\n",
       "      <td>False</td>\n",
       "      <td>False</td>\n",
       "    </tr>\n",
       "    <tr>\n",
       "      <th>3</th>\n",
       "      <td>False</td>\n",
       "      <td>False</td>\n",
       "      <td>False</td>\n",
       "      <td>False</td>\n",
       "      <td>False</td>\n",
       "      <td>False</td>\n",
       "      <td>False</td>\n",
       "      <td>False</td>\n",
       "      <td>False</td>\n",
       "      <td>False</td>\n",
       "      <td>False</td>\n",
       "      <td>False</td>\n",
       "      <td>False</td>\n",
       "      <td>False</td>\n",
       "      <td>False</td>\n",
       "      <td>False</td>\n",
       "      <td>False</td>\n",
       "    </tr>\n",
       "    <tr>\n",
       "      <th>4</th>\n",
       "      <td>False</td>\n",
       "      <td>False</td>\n",
       "      <td>False</td>\n",
       "      <td>False</td>\n",
       "      <td>False</td>\n",
       "      <td>False</td>\n",
       "      <td>False</td>\n",
       "      <td>False</td>\n",
       "      <td>False</td>\n",
       "      <td>False</td>\n",
       "      <td>False</td>\n",
       "      <td>False</td>\n",
       "      <td>False</td>\n",
       "      <td>False</td>\n",
       "      <td>False</td>\n",
       "      <td>False</td>\n",
       "      <td>False</td>\n",
       "    </tr>\n",
       "    <tr>\n",
       "      <th>...</th>\n",
       "      <td>...</td>\n",
       "      <td>...</td>\n",
       "      <td>...</td>\n",
       "      <td>...</td>\n",
       "      <td>...</td>\n",
       "      <td>...</td>\n",
       "      <td>...</td>\n",
       "      <td>...</td>\n",
       "      <td>...</td>\n",
       "      <td>...</td>\n",
       "      <td>...</td>\n",
       "      <td>...</td>\n",
       "      <td>...</td>\n",
       "      <td>...</td>\n",
       "      <td>...</td>\n",
       "      <td>...</td>\n",
       "      <td>...</td>\n",
       "    </tr>\n",
       "    <tr>\n",
       "      <th>48890</th>\n",
       "      <td>False</td>\n",
       "      <td>False</td>\n",
       "      <td>False</td>\n",
       "      <td>False</td>\n",
       "      <td>False</td>\n",
       "      <td>False</td>\n",
       "      <td>False</td>\n",
       "      <td>False</td>\n",
       "      <td>False</td>\n",
       "      <td>False</td>\n",
       "      <td>False</td>\n",
       "      <td>False</td>\n",
       "      <td>True</td>\n",
       "      <td>True</td>\n",
       "      <td>False</td>\n",
       "      <td>False</td>\n",
       "      <td>False</td>\n",
       "    </tr>\n",
       "    <tr>\n",
       "      <th>48891</th>\n",
       "      <td>False</td>\n",
       "      <td>False</td>\n",
       "      <td>False</td>\n",
       "      <td>False</td>\n",
       "      <td>False</td>\n",
       "      <td>False</td>\n",
       "      <td>False</td>\n",
       "      <td>False</td>\n",
       "      <td>False</td>\n",
       "      <td>False</td>\n",
       "      <td>False</td>\n",
       "      <td>False</td>\n",
       "      <td>True</td>\n",
       "      <td>True</td>\n",
       "      <td>False</td>\n",
       "      <td>False</td>\n",
       "      <td>False</td>\n",
       "    </tr>\n",
       "    <tr>\n",
       "      <th>48892</th>\n",
       "      <td>False</td>\n",
       "      <td>False</td>\n",
       "      <td>False</td>\n",
       "      <td>False</td>\n",
       "      <td>False</td>\n",
       "      <td>False</td>\n",
       "      <td>False</td>\n",
       "      <td>False</td>\n",
       "      <td>False</td>\n",
       "      <td>False</td>\n",
       "      <td>False</td>\n",
       "      <td>False</td>\n",
       "      <td>True</td>\n",
       "      <td>True</td>\n",
       "      <td>False</td>\n",
       "      <td>False</td>\n",
       "      <td>False</td>\n",
       "    </tr>\n",
       "    <tr>\n",
       "      <th>48893</th>\n",
       "      <td>False</td>\n",
       "      <td>False</td>\n",
       "      <td>False</td>\n",
       "      <td>False</td>\n",
       "      <td>False</td>\n",
       "      <td>False</td>\n",
       "      <td>False</td>\n",
       "      <td>False</td>\n",
       "      <td>False</td>\n",
       "      <td>False</td>\n",
       "      <td>False</td>\n",
       "      <td>False</td>\n",
       "      <td>True</td>\n",
       "      <td>True</td>\n",
       "      <td>False</td>\n",
       "      <td>False</td>\n",
       "      <td>False</td>\n",
       "    </tr>\n",
       "    <tr>\n",
       "      <th>48894</th>\n",
       "      <td>False</td>\n",
       "      <td>False</td>\n",
       "      <td>False</td>\n",
       "      <td>False</td>\n",
       "      <td>False</td>\n",
       "      <td>False</td>\n",
       "      <td>False</td>\n",
       "      <td>False</td>\n",
       "      <td>False</td>\n",
       "      <td>False</td>\n",
       "      <td>False</td>\n",
       "      <td>False</td>\n",
       "      <td>True</td>\n",
       "      <td>True</td>\n",
       "      <td>False</td>\n",
       "      <td>False</td>\n",
       "      <td>False</td>\n",
       "    </tr>\n",
       "  </tbody>\n",
       "</table>\n",
       "<p>48895 rows × 17 columns</p>\n",
       "</div>"
      ],
      "text/plain": [
       "          id   name  host_id  host_name  neighbourhood_group  neighbourhood  \\\n",
       "0      False  False    False      False                False          False   \n",
       "1      False  False    False      False                False          False   \n",
       "2      False  False    False      False                False          False   \n",
       "3      False  False    False      False                False          False   \n",
       "4      False  False    False      False                False          False   \n",
       "...      ...    ...      ...        ...                  ...            ...   \n",
       "48890  False  False    False      False                False          False   \n",
       "48891  False  False    False      False                False          False   \n",
       "48892  False  False    False      False                False          False   \n",
       "48893  False  False    False      False                False          False   \n",
       "48894  False  False    False      False                False          False   \n",
       "\n",
       "       latitude  longitude  room_type  price  minimum_nights  \\\n",
       "0         False      False      False  False           False   \n",
       "1         False      False      False  False           False   \n",
       "2         False      False      False  False           False   \n",
       "3         False      False      False  False           False   \n",
       "4         False      False      False  False           False   \n",
       "...         ...        ...        ...    ...             ...   \n",
       "48890     False      False      False  False           False   \n",
       "48891     False      False      False  False           False   \n",
       "48892     False      False      False  False           False   \n",
       "48893     False      False      False  False           False   \n",
       "48894     False      False      False  False           False   \n",
       "\n",
       "       number_of_reviews  last_review  reviews_per_month  \\\n",
       "0                  False        False              False   \n",
       "1                  False        False              False   \n",
       "2                  False         True               True   \n",
       "3                  False        False              False   \n",
       "4                  False        False              False   \n",
       "...                  ...          ...                ...   \n",
       "48890              False         True               True   \n",
       "48891              False         True               True   \n",
       "48892              False         True               True   \n",
       "48893              False         True               True   \n",
       "48894              False         True               True   \n",
       "\n",
       "       calculated_host_listings_count  availability_365  price category  \n",
       "0                               False             False           False  \n",
       "1                               False             False           False  \n",
       "2                               False             False           False  \n",
       "3                               False             False           False  \n",
       "4                               False             False           False  \n",
       "...                               ...               ...             ...  \n",
       "48890                           False             False           False  \n",
       "48891                           False             False           False  \n",
       "48892                           False             False           False  \n",
       "48893                           False             False           False  \n",
       "48894                           False             False           False  \n",
       "\n",
       "[48895 rows x 17 columns]"
      ]
     },
     "execution_count": 450,
     "metadata": {},
     "output_type": "execute_result"
    }
   ],
   "source": [
    "# Checking and Removing NaN Values\n",
    "airbnb_df.isna()"
   ]
  },
  {
   "cell_type": "code",
   "execution_count": 451,
   "id": "001d2fbd",
   "metadata": {},
   "outputs": [
    {
     "data": {
      "text/plain": [
       "id                                    0\n",
       "name                                 16\n",
       "host_id                               0\n",
       "host_name                            21\n",
       "neighbourhood_group                   0\n",
       "neighbourhood                         0\n",
       "latitude                              0\n",
       "longitude                             0\n",
       "room_type                             0\n",
       "price                                 0\n",
       "minimum_nights                        0\n",
       "number_of_reviews                     0\n",
       "last_review                       10052\n",
       "reviews_per_month                 10052\n",
       "calculated_host_listings_count        0\n",
       "availability_365                      0\n",
       "price category                        0\n",
       "dtype: int64"
      ]
     },
     "execution_count": 451,
     "metadata": {},
     "output_type": "execute_result"
    }
   ],
   "source": [
    "airbnb_df.isna().sum()"
   ]
  },
  {
   "cell_type": "code",
   "execution_count": 452,
   "id": "9a205bd8",
   "metadata": {},
   "outputs": [
    {
     "data": {
      "image/png": "[encoded data removed]",
      "text/plain": [
       "<Figure size 640x480 with 1 Axes>"
      ]
     },
     "metadata": {},
     "output_type": "display_data"
    }
   ],
   "source": [
    "def visualize_null(dataframe,percentage=True):\n",
    "    null_series=airbnb_df.isna().sum().sort_values(ascending=False)\n",
    "    if percentage:\n",
    "        null_series=null_series/len(dataframe)*100\n",
    "\n",
    "    plt.bar(x=null_series.index,height=null_series.values)\n",
    "\n",
    "    if percentage:\n",
    "        plt.ylabel('Percentage of missing values')\n",
    "    else:\n",
    "        plt.ylabel('Amount of missing values')\n",
    "    plt.title('Missing values')\n",
    "    plt.xlabel('Columns')\n",
    "    plt.xticks(rotation=90)\n",
    "    plt.show()\n",
    "\n",
    "visualize_null(airbnb_df)"
   ]
  },
  {
   "cell_type": "markdown",
   "id": "6a8c2042",
   "metadata": {},
   "source": [
    "**Identifying Categorical Columns:** In the first step, we used a boolean check to identify categorical columns by determining whether each entry is unique within its column. The outcome provided a clear understanding of which columns exhibit categorical characteristics, which is necessary for further analysis.\n",
    "\n",
    "**Handling Missing Values:** We used the 'isna().sum()' method to check for the presence of missing values in the dataset. Columns like 'last_review' and'reviews_per_month' had a significant number of missing values. This awareness is critical for determining appropriate strategies for dealing with missing data in subsequent cleaning steps, such as imputation or removal.\n",
    "\n",
    "**Missing Values Visualization:** To better understand the distribution of missing values, we created a visual representation using a bar plot. This visualization emphasizes the columns with the highest percentage of missing values, allowing for a more targeted approach to addressing data gaps during the cleaning process.\n",
    "\n",
    "**Data Cleaning:** To effectively visualize missing values during the cleaning phase, we created a function called visualize_null. The function includes the option to display percentages, making it a versatile tool for determining the extent of missing data. This step lays the groundwork for making informed decisions about how to handle missing values in subsequent analyses.\n",
    "\n",
    "**Columns Removed:** We can clearly state that, no columns were removed during the data cleaning process. The primary focus was on visualizing and comprehending missing values, laying the groundwork for future imputation or removal strategies as needed.\n",
    "\n"
   ]
  },
  {
   "cell_type": "code",
   "execution_count": 453,
   "id": "c06bdd65",
   "metadata": {},
   "outputs": [
    {
     "data": {
      "text/html": [
       "<div>\n",
       "<style scoped>\n",
       "    .dataframe tbody tr th:only-of-type {\n",
       "        vertical-align: middle;\n",
       "    }\n",
       "\n",
       "    .dataframe tbody tr th {\n",
       "        vertical-align: top;\n",
       "    }\n",
       "\n",
       "    .dataframe thead th {\n",
       "        text-align: right;\n",
       "    }\n",
       "</style>\n",
       "<table border=\"1\" class=\"dataframe\">\n",
       "  <thead>\n",
       "    <tr style=\"text-align: right;\">\n",
       "      <th></th>\n",
       "      <th>id</th>\n",
       "      <th>name</th>\n",
       "      <th>host_id</th>\n",
       "      <th>host_name</th>\n",
       "      <th>neighbourhood_group</th>\n",
       "      <th>neighbourhood</th>\n",
       "      <th>latitude</th>\n",
       "      <th>longitude</th>\n",
       "      <th>room_type</th>\n",
       "      <th>price</th>\n",
       "      <th>minimum_nights</th>\n",
       "      <th>number_of_reviews</th>\n",
       "      <th>last_review</th>\n",
       "      <th>reviews_per_month</th>\n",
       "      <th>calculated_host_listings_count</th>\n",
       "      <th>availability_365</th>\n",
       "      <th>price category</th>\n",
       "    </tr>\n",
       "  </thead>\n",
       "  <tbody>\n",
       "    <tr>\n",
       "      <th>2</th>\n",
       "      <td>3647.0</td>\n",
       "      <td>THE VILLAGE OF HARLEM....NEW YORK !</td>\n",
       "      <td>4632.0</td>\n",
       "      <td>Elisabeth</td>\n",
       "      <td>Manhattan</td>\n",
       "      <td>Harlem</td>\n",
       "      <td>40.80902</td>\n",
       "      <td>-73.94190</td>\n",
       "      <td>private room</td>\n",
       "      <td>150.0</td>\n",
       "      <td>3.0</td>\n",
       "      <td>0.0</td>\n",
       "      <td>NaN</td>\n",
       "      <td>NaN</td>\n",
       "      <td>1.0</td>\n",
       "      <td>365.0</td>\n",
       "      <td>medium</td>\n",
       "    </tr>\n",
       "    <tr>\n",
       "      <th>19</th>\n",
       "      <td>7750.0</td>\n",
       "      <td>Huge 2 BR Upper East  Cental Park</td>\n",
       "      <td>17985.0</td>\n",
       "      <td>Sing</td>\n",
       "      <td>Manhattan</td>\n",
       "      <td>East Harlem</td>\n",
       "      <td>40.79685</td>\n",
       "      <td>-73.94872</td>\n",
       "      <td>entire home/apt</td>\n",
       "      <td>190.0</td>\n",
       "      <td>7.0</td>\n",
       "      <td>0.0</td>\n",
       "      <td>NaN</td>\n",
       "      <td>NaN</td>\n",
       "      <td>2.0</td>\n",
       "      <td>249.0</td>\n",
       "      <td>medium</td>\n",
       "    </tr>\n",
       "    <tr>\n",
       "      <th>26</th>\n",
       "      <td>8700.0</td>\n",
       "      <td>Magnifique Suite au N de Manhattan - vue Cloitres</td>\n",
       "      <td>26394.0</td>\n",
       "      <td>Claude &amp; Sophie</td>\n",
       "      <td>Manhattan</td>\n",
       "      <td>Inwood</td>\n",
       "      <td>40.86754</td>\n",
       "      <td>-73.92639</td>\n",
       "      <td>private room</td>\n",
       "      <td>80.0</td>\n",
       "      <td>4.0</td>\n",
       "      <td>0.0</td>\n",
       "      <td>NaN</td>\n",
       "      <td>NaN</td>\n",
       "      <td>1.0</td>\n",
       "      <td>0.0</td>\n",
       "      <td>low</td>\n",
       "    </tr>\n",
       "    <tr>\n",
       "      <th>36</th>\n",
       "      <td>11452.0</td>\n",
       "      <td>Clean and Quiet in Brooklyn</td>\n",
       "      <td>7355.0</td>\n",
       "      <td>Vt</td>\n",
       "      <td>Brooklyn</td>\n",
       "      <td>Bedford-Stuyvesant</td>\n",
       "      <td>40.68876</td>\n",
       "      <td>-73.94312</td>\n",
       "      <td>private room</td>\n",
       "      <td>35.0</td>\n",
       "      <td>60.0</td>\n",
       "      <td>0.0</td>\n",
       "      <td>NaN</td>\n",
       "      <td>NaN</td>\n",
       "      <td>1.0</td>\n",
       "      <td>365.0</td>\n",
       "      <td>low</td>\n",
       "    </tr>\n",
       "    <tr>\n",
       "      <th>38</th>\n",
       "      <td>11943.0</td>\n",
       "      <td>Country space in the city</td>\n",
       "      <td>45445.0</td>\n",
       "      <td>Harriet</td>\n",
       "      <td>Brooklyn</td>\n",
       "      <td>Flatbush</td>\n",
       "      <td>40.63702</td>\n",
       "      <td>-73.96327</td>\n",
       "      <td>private room</td>\n",
       "      <td>150.0</td>\n",
       "      <td>1.0</td>\n",
       "      <td>0.0</td>\n",
       "      <td>NaN</td>\n",
       "      <td>NaN</td>\n",
       "      <td>1.0</td>\n",
       "      <td>365.0</td>\n",
       "      <td>medium</td>\n",
       "    </tr>\n",
       "  </tbody>\n",
       "</table>\n",
       "</div>"
      ],
      "text/plain": [
       "         id                                               name  host_id  \\\n",
       "2    3647.0                THE VILLAGE OF HARLEM....NEW YORK !   4632.0   \n",
       "19   7750.0                  Huge 2 BR Upper East  Cental Park  17985.0   \n",
       "26   8700.0  Magnifique Suite au N de Manhattan - vue Cloitres  26394.0   \n",
       "36  11452.0                        Clean and Quiet in Brooklyn   7355.0   \n",
       "38  11943.0                          Country space in the city  45445.0   \n",
       "\n",
       "          host_name neighbourhood_group       neighbourhood  latitude  \\\n",
       "2         Elisabeth           Manhattan              Harlem  40.80902   \n",
       "19             Sing           Manhattan         East Harlem  40.79685   \n",
       "26  Claude & Sophie           Manhattan              Inwood  40.86754   \n",
       "36               Vt            Brooklyn  Bedford-Stuyvesant  40.68876   \n",
       "38          Harriet            Brooklyn            Flatbush  40.63702   \n",
       "\n",
       "    longitude        room_type  price  minimum_nights  number_of_reviews  \\\n",
       "2   -73.94190     private room  150.0             3.0                0.0   \n",
       "19  -73.94872  entire home/apt  190.0             7.0                0.0   \n",
       "26  -73.92639     private room   80.0             4.0                0.0   \n",
       "36  -73.94312     private room   35.0            60.0                0.0   \n",
       "38  -73.96327     private room  150.0             1.0                0.0   \n",
       "\n",
       "   last_review  reviews_per_month  calculated_host_listings_count  \\\n",
       "2          NaN                NaN                             1.0   \n",
       "19         NaN                NaN                             2.0   \n",
       "26         NaN                NaN                             1.0   \n",
       "36         NaN                NaN                             1.0   \n",
       "38         NaN                NaN                             1.0   \n",
       "\n",
       "    availability_365 price category  \n",
       "2              365.0         medium  \n",
       "19             249.0         medium  \n",
       "26               0.0            low  \n",
       "36             365.0            low  \n",
       "38             365.0         medium  "
      ]
     },
     "execution_count": 453,
     "metadata": {},
     "output_type": "execute_result"
    }
   ],
   "source": [
    "# An example of those with missing values\n",
    "\n",
    "missing_data=airbnb_df[airbnb_df.isna().sum(axis=1)>0]\n",
    "missing_data.head()"
   ]
  },
  {
   "cell_type": "code",
   "execution_count": 454,
   "id": "78e0b9b4",
   "metadata": {},
   "outputs": [],
   "source": [
    "# Remove the specified columns from airbnb_df\n",
    "columns_to_drop = ['last_review', 'reviews_per_month']\n",
    "airbnb_df = airbnb_df.drop(columns=columns_to_drop)"
   ]
  },
  {
   "cell_type": "code",
   "execution_count": 455,
   "id": "39c7d7cb",
   "metadata": {},
   "outputs": [],
   "source": [
    "# Remove the specified rows from airbnb_df\n",
    "airbnb_df.dropna(inplace=True)"
   ]
  },
  {
   "cell_type": "code",
   "execution_count": 456,
   "id": "c35445c5",
   "metadata": {},
   "outputs": [
    {
     "data": {
      "text/plain": [
       "id                                0\n",
       "name                              0\n",
       "host_id                           0\n",
       "host_name                         0\n",
       "neighbourhood_group               0\n",
       "neighbourhood                     0\n",
       "latitude                          0\n",
       "longitude                         0\n",
       "room_type                         0\n",
       "price                             0\n",
       "minimum_nights                    0\n",
       "number_of_reviews                 0\n",
       "calculated_host_listings_count    0\n",
       "availability_365                  0\n",
       "price category                    0\n",
       "dtype: int64"
      ]
     },
     "execution_count": 456,
     "metadata": {},
     "output_type": "execute_result"
    }
   ],
   "source": [
    "# Double-check to see if the columns and rows have been deleted\n",
    "airbnb_df.isna().sum()"
   ]
  },
  {
   "cell_type": "code",
   "execution_count": 457,
   "id": "e515441c",
   "metadata": {
    "scrolled": true
   },
   "outputs": [
    {
     "name": "stdout",
     "output_type": "stream",
     "text": [
      "<class 'pandas.core.frame.DataFrame'>\n",
      "Index: 48858 entries, 0 to 48894\n",
      "Data columns (total 15 columns):\n",
      " #   Column                          Non-Null Count  Dtype   \n",
      "---  ------                          --------------  -----   \n",
      " 0   id                              48858 non-null  float64 \n",
      " 1   name                            48858 non-null  object  \n",
      " 2   host_id                         48858 non-null  float64 \n",
      " 3   host_name                       48858 non-null  object  \n",
      " 4   neighbourhood_group             48858 non-null  category\n",
      " 5   neighbourhood                   48858 non-null  category\n",
      " 6   latitude                        48858 non-null  float64 \n",
      " 7   longitude                       48858 non-null  float64 \n",
      " 8   room_type                       48858 non-null  category\n",
      " 9   price                           48858 non-null  float64 \n",
      " 10  minimum_nights                  48858 non-null  float64 \n",
      " 11  number_of_reviews               48858 non-null  float64 \n",
      " 12  calculated_host_listings_count  48858 non-null  float64 \n",
      " 13  availability_365                48858 non-null  float64 \n",
      " 14  price category                  48858 non-null  object  \n",
      "dtypes: category(3), float64(9), object(3)\n",
      "memory usage: 5.0+ MB\n"
     ]
    }
   ],
   "source": [
    "airbnb_df.info()"
   ]
  },
  {
   "cell_type": "markdown",
   "id": "61626622",
   "metadata": {},
   "source": [
    "# Checking for and Eliminating Duplicates"
   ]
  },
  {
   "cell_type": "code",
   "execution_count": 458,
   "id": "44d1cec3",
   "metadata": {},
   "outputs": [
    {
     "data": {
      "text/html": [
       "<div>\n",
       "<style scoped>\n",
       "    .dataframe tbody tr th:only-of-type {\n",
       "        vertical-align: middle;\n",
       "    }\n",
       "\n",
       "    .dataframe tbody tr th {\n",
       "        vertical-align: top;\n",
       "    }\n",
       "\n",
       "    .dataframe thead th {\n",
       "        text-align: right;\n",
       "    }\n",
       "</style>\n",
       "<table border=\"1\" class=\"dataframe\">\n",
       "  <thead>\n",
       "    <tr style=\"text-align: right;\">\n",
       "      <th></th>\n",
       "      <th>id</th>\n",
       "      <th>name</th>\n",
       "      <th>host_id</th>\n",
       "      <th>host_name</th>\n",
       "      <th>neighbourhood_group</th>\n",
       "      <th>neighbourhood</th>\n",
       "      <th>latitude</th>\n",
       "      <th>longitude</th>\n",
       "      <th>room_type</th>\n",
       "      <th>price</th>\n",
       "      <th>minimum_nights</th>\n",
       "      <th>number_of_reviews</th>\n",
       "      <th>calculated_host_listings_count</th>\n",
       "      <th>availability_365</th>\n",
       "      <th>price category</th>\n",
       "    </tr>\n",
       "  </thead>\n",
       "  <tbody>\n",
       "  </tbody>\n",
       "</table>\n",
       "</div>"
      ],
      "text/plain": [
       "Empty DataFrame\n",
       "Columns: [id, name, host_id, host_name, neighbourhood_group, neighbourhood, latitude, longitude, room_type, price, minimum_nights, number_of_reviews, calculated_host_listings_count, availability_365, price category]\n",
       "Index: []"
      ]
     },
     "execution_count": 458,
     "metadata": {},
     "output_type": "execute_result"
    }
   ],
   "source": [
    "airbnb_df[airbnb_df.duplicated()]"
   ]
  },
  {
   "cell_type": "markdown",
   "id": "14b90591",
   "metadata": {},
   "source": [
    "**We can see that there are no duplicates here.** "
   ]
  },
  {
   "cell_type": "markdown",
   "id": "a8223d40",
   "metadata": {},
   "source": [
    "# Examining and Eliminating Unexpected/Incorrect Data"
   ]
  },
  {
   "cell_type": "code",
   "execution_count": 459,
   "id": "b1fb2740",
   "metadata": {},
   "outputs": [
    {
     "data": {
      "text/html": [
       "<div>\n",
       "<style scoped>\n",
       "    .dataframe tbody tr th:only-of-type {\n",
       "        vertical-align: middle;\n",
       "    }\n",
       "\n",
       "    .dataframe tbody tr th {\n",
       "        vertical-align: top;\n",
       "    }\n",
       "\n",
       "    .dataframe thead th {\n",
       "        text-align: right;\n",
       "    }\n",
       "</style>\n",
       "<table border=\"1\" class=\"dataframe\">\n",
       "  <thead>\n",
       "    <tr style=\"text-align: right;\">\n",
       "      <th></th>\n",
       "      <th>id</th>\n",
       "      <th>host_id</th>\n",
       "      <th>latitude</th>\n",
       "      <th>longitude</th>\n",
       "      <th>price</th>\n",
       "      <th>minimum_nights</th>\n",
       "      <th>number_of_reviews</th>\n",
       "      <th>calculated_host_listings_count</th>\n",
       "      <th>availability_365</th>\n",
       "    </tr>\n",
       "  </thead>\n",
       "  <tbody>\n",
       "    <tr>\n",
       "      <th>0</th>\n",
       "      <td>2539.0</td>\n",
       "      <td>2787.0</td>\n",
       "      <td>40.64749</td>\n",
       "      <td>-73.97237</td>\n",
       "      <td>149.0</td>\n",
       "      <td>1.0</td>\n",
       "      <td>9.0</td>\n",
       "      <td>6.0</td>\n",
       "      <td>365.0</td>\n",
       "    </tr>\n",
       "    <tr>\n",
       "      <th>1</th>\n",
       "      <td>2595.0</td>\n",
       "      <td>2845.0</td>\n",
       "      <td>40.75362</td>\n",
       "      <td>-73.98377</td>\n",
       "      <td>225.0</td>\n",
       "      <td>1.0</td>\n",
       "      <td>45.0</td>\n",
       "      <td>2.0</td>\n",
       "      <td>355.0</td>\n",
       "    </tr>\n",
       "    <tr>\n",
       "      <th>2</th>\n",
       "      <td>3647.0</td>\n",
       "      <td>4632.0</td>\n",
       "      <td>40.80902</td>\n",
       "      <td>-73.94190</td>\n",
       "      <td>150.0</td>\n",
       "      <td>3.0</td>\n",
       "      <td>0.0</td>\n",
       "      <td>1.0</td>\n",
       "      <td>365.0</td>\n",
       "    </tr>\n",
       "    <tr>\n",
       "      <th>3</th>\n",
       "      <td>3831.0</td>\n",
       "      <td>4869.0</td>\n",
       "      <td>40.68514</td>\n",
       "      <td>-73.95976</td>\n",
       "      <td>89.0</td>\n",
       "      <td>1.0</td>\n",
       "      <td>270.0</td>\n",
       "      <td>1.0</td>\n",
       "      <td>194.0</td>\n",
       "    </tr>\n",
       "    <tr>\n",
       "      <th>4</th>\n",
       "      <td>5022.0</td>\n",
       "      <td>7192.0</td>\n",
       "      <td>40.79851</td>\n",
       "      <td>-73.94399</td>\n",
       "      <td>80.0</td>\n",
       "      <td>10.0</td>\n",
       "      <td>9.0</td>\n",
       "      <td>1.0</td>\n",
       "      <td>0.0</td>\n",
       "    </tr>\n",
       "  </tbody>\n",
       "</table>\n",
       "</div>"
      ],
      "text/plain": [
       "       id  host_id  latitude  longitude  price  minimum_nights  \\\n",
       "0  2539.0   2787.0  40.64749  -73.97237  149.0             1.0   \n",
       "1  2595.0   2845.0  40.75362  -73.98377  225.0             1.0   \n",
       "2  3647.0   4632.0  40.80902  -73.94190  150.0             3.0   \n",
       "3  3831.0   4869.0  40.68514  -73.95976   89.0             1.0   \n",
       "4  5022.0   7192.0  40.79851  -73.94399   80.0            10.0   \n",
       "\n",
       "   number_of_reviews  calculated_host_listings_count  availability_365  \n",
       "0                9.0                             6.0             365.0  \n",
       "1               45.0                             2.0             355.0  \n",
       "2                0.0                             1.0             365.0  \n",
       "3              270.0                             1.0             194.0  \n",
       "4                9.0                             1.0               0.0  "
      ]
     },
     "execution_count": 459,
     "metadata": {},
     "output_type": "execute_result"
    }
   ],
   "source": [
    "    #First, select all columns with numerical values.\n",
    "\n",
    "    numeric_airbnb_df = airbnb_df.select_dtypes(np.number)\n",
    "    numeric_airbnb_df.head()"
   ]
  },
  {
   "cell_type": "code",
   "execution_count": 460,
   "id": "13d231af",
   "metadata": {},
   "outputs": [
    {
     "data": {
      "image/png": "[encoded data removed]",
      "text/plain": [
       "<Figure size 1500x1500 with 9 Axes>"
      ]
     },
     "metadata": {},
     "output_type": "display_data"
    }
   ],
   "source": [
    "# Examining the histogram for visible errors and/or unexpected outliers\n",
    "\n",
    "numeric_airbnb_df.hist(figsize=(15,15));"
   ]
  },
  {
   "cell_type": "markdown",
   "id": "bd3cd9a5",
   "metadata": {},
   "source": [
    "Using the'select_dtypes' method, we isolated columns with numerical values from the Airbnb dataset, creating a DataFrame called 'numeric_airbnb_df'. We then generated histograms to visualize the distribution of these numerical variables. This step assists in identifying any visible errors, unusual patterns, or unexpected outliers within the dataset, providing preliminary insight into the distributional characteristics of numerical features in the Airbnb data."
   ]
  },
  {
   "cell_type": "markdown",
   "id": "70ad4af7",
   "metadata": {},
   "source": [
    "**We now verify that the categorical columns only contain expected values.**"
   ]
  },
  {
   "cell_type": "code",
   "execution_count": 461,
   "id": "82ce0db7",
   "metadata": {},
   "outputs": [
    {
     "data": {
      "text/html": [
       "<div>\n",
       "<style scoped>\n",
       "    .dataframe tbody tr th:only-of-type {\n",
       "        vertical-align: middle;\n",
       "    }\n",
       "\n",
       "    .dataframe tbody tr th {\n",
       "        vertical-align: top;\n",
       "    }\n",
       "\n",
       "    .dataframe thead th {\n",
       "        text-align: right;\n",
       "    }\n",
       "</style>\n",
       "<table border=\"1\" class=\"dataframe\">\n",
       "  <thead>\n",
       "    <tr style=\"text-align: right;\">\n",
       "      <th></th>\n",
       "      <th>neighbourhood_group</th>\n",
       "      <th>neighbourhood</th>\n",
       "      <th>room_type</th>\n",
       "    </tr>\n",
       "  </thead>\n",
       "  <tbody>\n",
       "    <tr>\n",
       "      <th>0</th>\n",
       "      <td>Brooklyn</td>\n",
       "      <td>Kensington</td>\n",
       "      <td>private room</td>\n",
       "    </tr>\n",
       "    <tr>\n",
       "      <th>1</th>\n",
       "      <td>Manhattan</td>\n",
       "      <td>Midtown</td>\n",
       "      <td>entire home/apt</td>\n",
       "    </tr>\n",
       "    <tr>\n",
       "      <th>2</th>\n",
       "      <td>Manhattan</td>\n",
       "      <td>Harlem</td>\n",
       "      <td>private room</td>\n",
       "    </tr>\n",
       "    <tr>\n",
       "      <th>3</th>\n",
       "      <td>Brooklyn</td>\n",
       "      <td>Clinton Hill</td>\n",
       "      <td>entire home/apt</td>\n",
       "    </tr>\n",
       "    <tr>\n",
       "      <th>4</th>\n",
       "      <td>Manhattan</td>\n",
       "      <td>East Harlem</td>\n",
       "      <td>entire home/apt</td>\n",
       "    </tr>\n",
       "  </tbody>\n",
       "</table>\n",
       "</div>"
      ],
      "text/plain": [
       "  neighbourhood_group neighbourhood        room_type\n",
       "0            Brooklyn    Kensington     private room\n",
       "1           Manhattan       Midtown  entire home/apt\n",
       "2           Manhattan        Harlem     private room\n",
       "3            Brooklyn  Clinton Hill  entire home/apt\n",
       "4           Manhattan   East Harlem  entire home/apt"
      ]
     },
     "execution_count": 461,
     "metadata": {},
     "output_type": "execute_result"
    }
   ],
   "source": [
    "# First, make a sub-table with only category dtype columns.\n",
    "cat_col = airbnb_df.select_dtypes(include='category')\n",
    "cat_col.head()"
   ]
  },
  {
   "cell_type": "code",
   "execution_count": 462,
   "id": "4e7807be",
   "metadata": {
    "scrolled": true
   },
   "outputs": [
    {
     "name": "stdout",
     "output_type": "stream",
     "text": [
      "['Brooklyn', 'Manhattan', 'Queens', 'Staten Island', 'Bronx']\n",
      "Categories (5, object): ['Bronx', 'Brooklyn', 'Manhattan', 'Queens', 'Staten Island']\n",
      "['Kensington', 'Midtown', 'Harlem', 'Clinton Hill', 'East Harlem', ..., 'Bull's Head', 'New Dorp', 'Rossville', 'Breezy Point', 'Willowbrook']\n",
      "Length: 221\n",
      "Categories (221, object): ['Allerton', 'Arden Heights', 'Arrochar', 'Arverne', ..., 'Woodhaven', 'Woodlawn', 'Woodrow', 'Woodside']\n",
      "['private room', 'entire home/apt', 'shared room']\n",
      "Categories (3, object): ['entire home/apt', 'private room', 'shared room']\n"
     ]
    }
   ],
   "source": [
    "# Examining all categorical columns for distinct values\n",
    "for col in cat_col :\n",
    "    print(airbnb_df[col].unique())"
   ]
  },
  {
   "cell_type": "markdown",
   "id": "254068d0",
   "metadata": {},
   "source": [
    "**As shown above, all categorical columns include only categories that are expected.**"
   ]
  },
  {
   "cell_type": "markdown",
   "id": "6bc13ecf",
   "metadata": {},
   "source": [
    "# Descriptive Statistics"
   ]
  },
  {
   "cell_type": "markdown",
   "id": "5b903655",
   "metadata": {},
   "source": [
    "Descriptive statistics are essential for summarizing and comprehending data, and they are the first step in data analysis. Here's how they help us characterize and understand our datasets, like airbnb_df:\n",
    "\n",
    "**Measures of Central Tendency:**\n",
    "\n",
    "* **Mean:** Returns the average value, indicating the data's center.\n",
    "\n",
    "* **Median:** The median value in a sorted list represents the middle value, which is useful in skewed distributions.\n",
    "\n",
    "* **Mode:** The most frequently occurring value, which is necessary for comprehending common characteristics.\n",
    "\n",
    "**Dispersion Measures:** \n",
    "\n",
    "* **Standard Deviation & Variance:** Standard Deviation and Variance are two measures of dispersion. Indicate the spread of the values to demonstrate the data's variability.\n",
    "\n",
    "* **Range and Interquartile Range:** These measures the extent of spread and aid in the identification of outliers.\n",
    "\n",
    "**Distribution Shape:**\n",
    "\n",
    "* **Skewness:** Skewness of the distribution reveals the asymmetry of the data distribution.\n",
    "\n",
    "* **Kurtosis:** The 'tailedness' of the distribution, indicating the presence of outliers.\n",
    "\n",
    "**Data Analysis Importance:**\n",
    "\n",
    "* Descriptive statistics provide a concise and insightful summary of the characteristics of a dataset.\n",
    "\n",
    "* They form the basis of both exploratory data analysis and statistical inference.\n",
    "\n",
    "* They aid in understanding the general behavior of respondents in the context of airbnb_df, such as average age, most common music genre, and so on.\n",
    "\n",
    "**This preliminary understanding is critical for:**\n",
    "\n",
    "* Recognizing patterns or anomalies.\n",
    "\n",
    "* Providing direction for more in-depth analysis.\n",
    "\n",
    "* Data insights are used to inform decision-making processes.\n",
    "\n",
    "The effective use of descriptive statistics is the first step in unlocking the potential of airbnb_df, guiding analysts in making data-driven decisions and hypotheses for further investigation."
   ]
  },
  {
   "cell_type": "code",
   "execution_count": 463,
   "id": "6c9eab86",
   "metadata": {},
   "outputs": [],
   "source": [
    "# Descriptive Statistics\n",
    "mean_price = airbnb_df['price'].mean()\n",
    "median_availability_365 = airbnb_df['availability_365'].median()\n",
    "mode_number_of_reviews = airbnb_df['number_of_reviews'].mode()[0]  # Mode can return multiple values; take the first one\n",
    "\n",
    "std_dev_id = airbnb_df['id'].std()\n",
    "variance_host_id = airbnb_df['host_id'].var()\n",
    "range_latitude = airbnb_df['latitude'].max() - airbnb_df['latitude'].min()\n",
    "iqr_longitude = airbnb_df['longitude'].quantile(0.75) - airbnb_df['longitude'].quantile(0.25)\n",
    "\n",
    "skewness_minimum_nights = airbnb_df['minimum_nights'].skew()\n",
    "kurtosis_calculated_host_listings_count = airbnb_df['calculated_host_listings_count'].kurt()"
   ]
  },
  {
   "cell_type": "code",
   "execution_count": 464,
   "id": "7faa7fe3",
   "metadata": {},
   "outputs": [
    {
     "name": "stdout",
     "output_type": "stream",
     "text": [
      "Mean Price: 152.74\n",
      "Median Availability 365: 45.0\n",
      "Mode Number of reviews: 0.0\n",
      "Standard Deviation ID: 10982893.61\n",
      "Variance Host id: 6181715920341655.0\n",
      "Range Latitude: 0.41\n",
      "IQR Longitude: 0.05\n",
      "Skewness of Minimum nights: 21.0\n",
      "Kurtosis of Calculated host listings count: 67.5\n"
     ]
    }
   ],
   "source": [
    "# Print Descriptive Statistics with Rounding\n",
    "print(f\"Mean Price: {round(mean_price, 2)}\")\n",
    "print(f\"Median Availability 365: {round(median_availability_365, 2)}\")\n",
    "print(f\"Mode Number of reviews: {mode_number_of_reviews}\")\n",
    "\n",
    "print(f\"Standard Deviation ID: {round(std_dev_id, 2)}\")\n",
    "print(f\"Variance Host id: {round(variance_host_id, 2)}\")\n",
    "print(f\"Range Latitude: {round(range_latitude, 2)}\")\n",
    "print(f\"IQR Longitude: {round(iqr_longitude, 2)}\")\n",
    "\n",
    "print(f\"Skewness of Minimum nights: {round(skewness_minimum_nights, 2)}\")\n",
    "print(f\"Kurtosis of Calculated host listings count: {round(kurtosis_calculated_host_listings_count, 2)}\")"
   ]
  },
  {
   "cell_type": "markdown",
   "id": "96cf0428",
   "metadata": {},
   "source": [
    "These values are only meaningful when dealing with numeric columns (which is why appropriate dtypes conversions are required). The method describe provides us with additional descriptive statistics for all of them at the same time."
   ]
  },
  {
   "cell_type": "code",
   "execution_count": 465,
   "id": "c8a10182",
   "metadata": {
    "scrolled": false
   },
   "outputs": [
    {
     "data": {
      "text/html": [
       "<div>\n",
       "<style scoped>\n",
       "    .dataframe tbody tr th:only-of-type {\n",
       "        vertical-align: middle;\n",
       "    }\n",
       "\n",
       "    .dataframe tbody tr th {\n",
       "        vertical-align: top;\n",
       "    }\n",
       "\n",
       "    .dataframe thead th {\n",
       "        text-align: right;\n",
       "    }\n",
       "</style>\n",
       "<table border=\"1\" class=\"dataframe\">\n",
       "  <thead>\n",
       "    <tr style=\"text-align: right;\">\n",
       "      <th></th>\n",
       "      <th>id</th>\n",
       "      <th>host_id</th>\n",
       "      <th>latitude</th>\n",
       "      <th>longitude</th>\n",
       "      <th>price</th>\n",
       "      <th>minimum_nights</th>\n",
       "      <th>number_of_reviews</th>\n",
       "      <th>calculated_host_listings_count</th>\n",
       "      <th>availability_365</th>\n",
       "    </tr>\n",
       "  </thead>\n",
       "  <tbody>\n",
       "    <tr>\n",
       "      <th>count</th>\n",
       "      <td>4.885800e+04</td>\n",
       "      <td>4.885800e+04</td>\n",
       "      <td>48858.000000</td>\n",
       "      <td>48858.000000</td>\n",
       "      <td>48858.000000</td>\n",
       "      <td>48858.000000</td>\n",
       "      <td>48858.000000</td>\n",
       "      <td>48858.000000</td>\n",
       "      <td>48858.000000</td>\n",
       "    </tr>\n",
       "    <tr>\n",
       "      <th>mean</th>\n",
       "      <td>1.902335e+07</td>\n",
       "      <td>6.763169e+07</td>\n",
       "      <td>40.728941</td>\n",
       "      <td>-73.952170</td>\n",
       "      <td>152.740309</td>\n",
       "      <td>7.012444</td>\n",
       "      <td>23.273098</td>\n",
       "      <td>7.148369</td>\n",
       "      <td>112.801425</td>\n",
       "    </tr>\n",
       "    <tr>\n",
       "      <th>std</th>\n",
       "      <td>1.098289e+07</td>\n",
       "      <td>7.862389e+07</td>\n",
       "      <td>0.054528</td>\n",
       "      <td>0.046159</td>\n",
       "      <td>240.232386</td>\n",
       "      <td>20.019757</td>\n",
       "      <td>44.549898</td>\n",
       "      <td>32.964600</td>\n",
       "      <td>131.610962</td>\n",
       "    </tr>\n",
       "    <tr>\n",
       "      <th>min</th>\n",
       "      <td>2.539000e+03</td>\n",
       "      <td>2.438000e+03</td>\n",
       "      <td>40.499790</td>\n",
       "      <td>-74.244420</td>\n",
       "      <td>0.000000</td>\n",
       "      <td>1.000000</td>\n",
       "      <td>0.000000</td>\n",
       "      <td>1.000000</td>\n",
       "      <td>0.000000</td>\n",
       "    </tr>\n",
       "    <tr>\n",
       "      <th>25%</th>\n",
       "      <td>9.475980e+06</td>\n",
       "      <td>7.818669e+06</td>\n",
       "      <td>40.690090</td>\n",
       "      <td>-73.983070</td>\n",
       "      <td>69.000000</td>\n",
       "      <td>1.000000</td>\n",
       "      <td>1.000000</td>\n",
       "      <td>1.000000</td>\n",
       "      <td>0.000000</td>\n",
       "    </tr>\n",
       "    <tr>\n",
       "      <th>50%</th>\n",
       "      <td>1.969114e+07</td>\n",
       "      <td>3.079133e+07</td>\n",
       "      <td>40.723070</td>\n",
       "      <td>-73.955680</td>\n",
       "      <td>106.000000</td>\n",
       "      <td>3.000000</td>\n",
       "      <td>5.000000</td>\n",
       "      <td>1.000000</td>\n",
       "      <td>45.000000</td>\n",
       "    </tr>\n",
       "    <tr>\n",
       "      <th>75%</th>\n",
       "      <td>2.915765e+07</td>\n",
       "      <td>1.074344e+08</td>\n",
       "      <td>40.763107</td>\n",
       "      <td>-73.936280</td>\n",
       "      <td>175.000000</td>\n",
       "      <td>5.000000</td>\n",
       "      <td>24.000000</td>\n",
       "      <td>2.000000</td>\n",
       "      <td>227.000000</td>\n",
       "    </tr>\n",
       "    <tr>\n",
       "      <th>max</th>\n",
       "      <td>3.648724e+07</td>\n",
       "      <td>2.743213e+08</td>\n",
       "      <td>40.913060</td>\n",
       "      <td>-73.712990</td>\n",
       "      <td>10000.000000</td>\n",
       "      <td>1250.000000</td>\n",
       "      <td>629.000000</td>\n",
       "      <td>327.000000</td>\n",
       "      <td>365.000000</td>\n",
       "    </tr>\n",
       "  </tbody>\n",
       "</table>\n",
       "</div>"
      ],
      "text/plain": [
       "                 id       host_id      latitude     longitude         price  \\\n",
       "count  4.885800e+04  4.885800e+04  48858.000000  48858.000000  48858.000000   \n",
       "mean   1.902335e+07  6.763169e+07     40.728941    -73.952170    152.740309   \n",
       "std    1.098289e+07  7.862389e+07      0.054528      0.046159    240.232386   \n",
       "min    2.539000e+03  2.438000e+03     40.499790    -74.244420      0.000000   \n",
       "25%    9.475980e+06  7.818669e+06     40.690090    -73.983070     69.000000   \n",
       "50%    1.969114e+07  3.079133e+07     40.723070    -73.955680    106.000000   \n",
       "75%    2.915765e+07  1.074344e+08     40.763107    -73.936280    175.000000   \n",
       "max    3.648724e+07  2.743213e+08     40.913060    -73.712990  10000.000000   \n",
       "\n",
       "       minimum_nights  number_of_reviews  calculated_host_listings_count  \\\n",
       "count    48858.000000       48858.000000                    48858.000000   \n",
       "mean         7.012444          23.273098                        7.148369   \n",
       "std         20.019757          44.549898                       32.964600   \n",
       "min          1.000000           0.000000                        1.000000   \n",
       "25%          1.000000           1.000000                        1.000000   \n",
       "50%          3.000000           5.000000                        1.000000   \n",
       "75%          5.000000          24.000000                        2.000000   \n",
       "max       1250.000000         629.000000                      327.000000   \n",
       "\n",
       "       availability_365  \n",
       "count      48858.000000  \n",
       "mean         112.801425  \n",
       "std          131.610962  \n",
       "min            0.000000  \n",
       "25%            0.000000  \n",
       "50%           45.000000  \n",
       "75%          227.000000  \n",
       "max          365.000000  "
      ]
     },
     "execution_count": 465,
     "metadata": {},
     "output_type": "execute_result"
    }
   ],
   "source": [
    "airbnb_df.describe()"
   ]
  },
  {
   "cell_type": "markdown",
   "id": "778eb117",
   "metadata": {},
   "source": [
    "# Descriptive Statistics Provides Insights"
   ]
  },
  {
   "cell_type": "markdown",
   "id": "887dd401",
   "metadata": {},
   "source": [
    "**Mean Price:** The dataset's average price for Airbnb listings is $152.74.\n",
    "\n",
    "**Median Availability 365:** The year-round median availability for bookings is 45 days.\n",
    "\n",
    "**Mode Number of Reviews:** For listings, the most common number of reviews is 0.\n",
    "\n",
    "**Spread and dispersion:**\n",
    "\n",
    "**Listing ID Standard Deviation:** The listing ID standard deviation is approximately 10,982,893.61.\n",
    "\n",
    "**Host ID Variance:** The host ID variance is 6,181,715,920,341,655.0.\n",
    "\n",
    "**Latitude Coordinate Range:** The latitude coordinate range is 0.41.\n",
    "\n",
    "**Longitude Interquartile Range:** The interquartile range for longitude is 0.05.\n",
    "\n",
    "**Skewness and Kurtosis:**\n",
    "\n",
    "**Minimum Nights Skewness:** The minimum night distribution has a skewness of 21.0, indicating significant rightward (positive) skewness.\n",
    "\n",
    "**Kurtosis of Calculated Host Listings Count:** The calculated host listings count has a kurtosis of 67.5, indicating a heavy-tailed distribution with potentially extreme values.\n",
    "\n",
    "\n",
    "**Overview of Descriptive Statistics:** \n",
    "\n",
    "The describe method provides comprehensive statistics for numeric columns, revealing insights into key attribute distribution, central tendency, and variability.\n",
    "\n",
    "**Additional Descriptive Statistics:** \n",
    "\n",
    "The table displays key statistics for selected numeric columns, such as count, mean, standard deviation, minimum, 25%ile, median, 75%ile, and maximum. This data provides a more detailed breakdown of the data distribution.\n",
    "These descriptive statistics provide important insights into the distribution and characteristics of numeric features in the Airbnb dataset, which are necessary for understanding the variability and central tendencies of key attributes."
   ]
  },
  {
   "cell_type": "markdown",
   "id": "a505124d",
   "metadata": {},
   "source": [
    "# Exploratory Data Analysis"
   ]
  },
  {
   "cell_type": "markdown",
   "id": "5889b383",
   "metadata": {},
   "source": [
    "# Visualizing Price Categories Distribution:"
   ]
  },
  {
   "cell_type": "code",
   "execution_count": 466,
   "id": "3d0d26be",
   "metadata": {},
   "outputs": [
    {
     "data": {
      "image/png": "[encoded data removed]",
      "text/plain": [
       "<Figure size 640x480 with 1 Axes>"
      ]
     },
     "metadata": {},
     "output_type": "display_data"
    }
   ],
   "source": [
    "airbnb_df['price category'].value_counts().plot(kind='bar');"
   ]
  },
  {
   "cell_type": "markdown",
   "id": "faa39a85",
   "metadata": {},
   "source": [
    "# Pie Chart of Neighbourhood Groups Distribution:"
   ]
  },
  {
   "cell_type": "code",
   "execution_count": 467,
   "id": "47a100e8",
   "metadata": {},
   "outputs": [
    {
     "data": {
      "image/png": "[encoded data removed]",
      "text/plain": [
       "<Figure size 640x480 with 1 Axes>"
      ]
     },
     "metadata": {},
     "output_type": "display_data"
    }
   ],
   "source": [
    "airbnb_df['neighbourhood_group'].value_counts().plot(kind='pie');"
   ]
  },
  {
   "cell_type": "markdown",
   "id": "569d093a",
   "metadata": {},
   "source": [
    "# Correlation Heatmap of Numeric Variables:"
   ]
  },
  {
   "cell_type": "code",
   "execution_count": 468,
   "id": "bcfe2d66",
   "metadata": {},
   "outputs": [
    {
     "data": {
      "image/png": "[encoded data removed]",
      "text/plain": [
       "<Figure size 1500x500 with 2 Axes>"
      ]
     },
     "metadata": {},
     "output_type": "display_data"
    }
   ],
   "source": [
    "plt.figure(figsize=(15,5))\n",
    "sns.heatmap(airbnb_df.select_dtypes(np.number).\n",
    "           corr(), annot=True, cmap='twilight');"
   ]
  },
  {
   "cell_type": "markdown",
   "id": "94c2c88b",
   "metadata": {},
   "source": [
    "# Box Plot of Listing IDs:"
   ]
  },
  {
   "cell_type": "code",
   "execution_count": 470,
   "id": "cfcd7b1c",
   "metadata": {},
   "outputs": [
    {
     "data": {
      "image/png": "[encoded data removed]",
      "text/plain": [
       "<Figure size 640x480 with 1 Axes>"
      ]
     },
     "metadata": {},
     "output_type": "display_data"
    }
   ],
   "source": [
    "airbnb_df[['id']].plot(kind='box');"
   ]
  },
  {
   "cell_type": "markdown",
   "id": "6e2ca0e0",
   "metadata": {},
   "source": [
    "# Box Plot of Availability in a Year:"
   ]
  },
  {
   "cell_type": "code",
   "execution_count": 471,
   "id": "f7a833ee",
   "metadata": {},
   "outputs": [
    {
     "data": {
      "image/png": "[encoded data removed]",
      "text/plain": [
       "<Figure size 640x480 with 1 Axes>"
      ]
     },
     "metadata": {},
     "output_type": "display_data"
    }
   ],
   "source": [
    "airbnb_df[['availability_365']].plot(kind='box');"
   ]
  },
  {
   "cell_type": "markdown",
   "id": "6d1544a6",
   "metadata": {},
   "source": [
    "# Price Analysis by Neighbourhood Group and Room Type:"
   ]
  },
  {
   "cell_type": "code",
   "execution_count": 472,
   "id": "fa390426",
   "metadata": {},
   "outputs": [
    {
     "data": {
      "text/plain": [
       "<Axes: xlabel='neighbourhood_group', ylabel='price'>"
      ]
     },
     "execution_count": 472,
     "metadata": {},
     "output_type": "execute_result"
    },
    {
     "data": {
      "image/png": "[encoded data removed]",
      "text/plain": [
       "<Figure size 640x480 with 1 Axes>"
      ]
     },
     "metadata": {},
     "output_type": "display_data"
    }
   ],
   "source": [
    "#Analysis of price by group and room type\n",
    "df_type_price = airbnb_df.groupby([\"neighbourhood_group\", \"room_type\"]).agg(price=(\"price\", \"mean\"))\n",
    "df_type_price = df_type_price.reset_index()\n",
    "sns.barplot(x=\"neighbourhood_group\", y=\"price\", hue=\"room_type\", data=df_type_price)"
   ]
  },
  {
   "cell_type": "markdown",
   "id": "60688f44",
   "metadata": {},
   "source": [
    "# Room Type Distribution Across Neighbourhood Groups:"
   ]
  },
  {
   "cell_type": "code",
   "execution_count": 473,
   "id": "e838f976",
   "metadata": {},
   "outputs": [
    {
     "data": {
      "text/plain": [
       "<Axes: xlabel='neighbourhood_group', ylabel='count'>"
      ]
     },
     "execution_count": 473,
     "metadata": {},
     "output_type": "execute_result"
    },
    {
     "data": {
      "image/png": "[encoded data removed]",
      "text/plain": [
       "<Figure size 640x480 with 1 Axes>"
      ]
     },
     "metadata": {},
     "output_type": "display_data"
    }
   ],
   "source": [
    "#Analysis of number of room of each type across neighbourhood_group\n",
    "df_room_type = airbnb_df.groupby([\"neighbourhood_group\", \"room_type\"]).agg(count=(\"room_type\", \"count\"))\n",
    "df_room_type = df_room_type.reset_index()\n",
    "sns.barplot(x=\"neighbourhood_group\", y=\"count\", hue=\"room_type\", data=df_room_type)"
   ]
  },
  {
   "cell_type": "markdown",
   "id": "2ed2c376",
   "metadata": {},
   "source": [
    "# Average Minimum Nights by Neighbourhood Group and Room Type:"
   ]
  },
  {
   "cell_type": "code",
   "execution_count": 474,
   "id": "f046f793",
   "metadata": {},
   "outputs": [
    {
     "data": {
      "text/plain": [
       "<Axes: xlabel='neighbourhood_group', ylabel='nights'>"
      ]
     },
     "execution_count": 474,
     "metadata": {},
     "output_type": "execute_result"
    },
    {
     "data": {
      "image/png": "[encoded data removed]",
      "text/plain": [
       "<Figure size 640x480 with 1 Axes>"
      ]
     },
     "metadata": {},
     "output_type": "display_data"
    }
   ],
   "source": [
    "df_room_nights = airbnb_df.groupby([\"neighbourhood_group\", \"room_type\"]).agg(nights=(\"minimum_nights\", \"mean\"))\n",
    "df_room_nights = df_room_nights.reset_index()\n",
    "sns.barplot(x=\"neighbourhood_group\", y=\"nights\", hue=\"room_type\", data=df_room_nights)"
   ]
  },
  {
   "cell_type": "markdown",
   "id": "8dc7d86c",
   "metadata": {},
   "source": [
    "# Average Price Analysis by Neighbourhood Group:"
   ]
  },
  {
   "cell_type": "code",
   "execution_count": 475,
   "id": "c5540a6c",
   "metadata": {},
   "outputs": [
    {
     "data": {
      "image/png": "[encoded data removed]",
      "text/plain": [
       "<Figure size 600x400 with 1 Axes>"
      ]
     },
     "metadata": {},
     "output_type": "display_data"
    }
   ],
   "source": [
    "#Calculating the average price per region\n",
    "df_group_avg_price = round(airbnb_df.groupby(\"neighbourhood_group\").price.mean().sort_values(ascending=False),2,)\n",
    "\n",
    "# Plotting the average price per region\n",
    "fig = plt.figure(1, figsize=(6, 4))\n",
    "plt.bar(df_group_avg_price.index, df_group_avg_price)\n",
    "plt.title(\"Property listing for each region\")\n",
    "plt.xlabel(\"Region\")\n",
    "plt.ylabel(\"Average pricing per region\")\n",
    "plt.show()"
   ]
  },
  {
   "cell_type": "markdown",
   "id": "7233bd74",
   "metadata": {},
   "source": [
    "# Maximum Price Analysis by Neighbourhood Group:"
   ]
  },
  {
   "cell_type": "code",
   "execution_count": 476,
   "id": "d55d294f",
   "metadata": {},
   "outputs": [
    {
     "data": {
      "image/png": "[encoded data removed]",
      "text/plain": [
       "<Figure size 600x400 with 1 Axes>"
      ]
     },
     "metadata": {},
     "output_type": "display_data"
    }
   ],
   "source": [
    "#Calculating the maximum price per region\n",
    "df_group_max_price = round(airbnb_df.groupby(\"neighbourhood_group\").price.max().sort_values(ascending=False),2,)\n",
    "fig = plt.figure(1, figsize=(6, 4))\n",
    "# Plotting the average price per region\n",
    "plt.bar(df_group_max_price.index, df_group_max_price)\n",
    "plt.title(\"Property listing for each region\")\n",
    "plt.xlabel(\"Region\")\n",
    "plt.ylabel(\"Max pricing per region\")\n",
    "plt.show()"
   ]
  },
  {
   "cell_type": "markdown",
   "id": "272b625a",
   "metadata": {},
   "source": [
    "# Property Count Analysis by Neighbourhood Group:"
   ]
  },
  {
   "cell_type": "code",
   "execution_count": 477,
   "id": "96a0149b",
   "metadata": {},
   "outputs": [
    {
     "data": {
      "image/png": "[encoded data removed]",
      "text/plain": [
       "<Figure size 600x400 with 1 Axes>"
      ]
     },
     "metadata": {},
     "output_type": "display_data"
    }
   ],
   "source": [
    "#Calculating the number of properties per region\n",
    "df_group_region_count = round(airbnb_df.groupby(\"neighbourhood_group\").price.count().sort_values(ascending=False),2,)\n",
    "\n",
    "fig = plt.figure(1, figsize=(6, 4))\n",
    "# Plotting the average price per region\n",
    "plt.bar(df_group_region_count.index, df_group_region_count)\n",
    "plt.title(\"Property listing for each region\")\n",
    "plt.xlabel(\"Region\")\n",
    "plt.ylabel(\"Number of properties per region\")\n",
    "plt.show()"
   ]
  },
  {
   "cell_type": "code",
   "execution_count": null,
   "id": "6ad60277",
   "metadata": {},
   "outputs": [],
   "source": []
  }
 ],
 "metadata": {
  "kernelspec": {
   "display_name": "Python 3 (ipykernel)",
   "language": "python",
   "name": "python3"
  },
  "language_info": {
   "codemirror_mode": {
    "name": "ipython",
    "version": 3
   },
   "file_extension": ".py",
   "mimetype": "text/x-python",
   "name": "python",
   "nbconvert_exporter": "python",
   "pygments_lexer": "ipython3",
   "version": "3.11.5"
  }
 },
 "nbformat": 4,
 "nbformat_minor": 5
}
